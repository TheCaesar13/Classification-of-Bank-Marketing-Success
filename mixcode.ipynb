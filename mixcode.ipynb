{
 "cells": [
  {
   "cell_type": "code",
   "execution_count": 106,
   "metadata": {},
   "outputs": [],
   "source": [
    "import pandas as pd\n",
    "import numpy as np\n",
    "import matplotlib.pyplot as plt\n",
    "import seaborn as sns\n",
    "\n",
    "from sklearn.tree import DecisionTreeClassifier, plot_tree\n",
    "from sklearn import preprocessing\n",
    "from sklearn.model_selection import train_test_split\n",
    "from sklearn import metrics \n",
    "from sklearn.metrics import confusion_matrix\n",
    "from sklearn.naive_bayes import GaussianNB\n",
    "from sklearn.neighbors import KNeighborsClassifier\n",
    "from sklearn.neural_network import MLPClassifier\n",
    "from sklearn import svm\n",
    "from sklearn.datasets import make_classification\n",
    "from sklearn.multiclass import OneVsRestClassifier\n",
    "from sklearn.ensemble import RandomForestClassifier\n",
    "from sklearn.ensemble import GradientBoostingClassifier\n",
    "from sklearn.decomposition import PCA"
   ]
  },
  {
   "cell_type": "code",
   "execution_count": 64,
   "metadata": {},
   "outputs": [],
   "source": [
    "#loading the dataset\n",
    "original_data = pd.read_csv(\"bank-full.csv\", sep=\";\")"
   ]
  },
  {
   "cell_type": "markdown",
   "metadata": {},
   "source": [
    "### Understanding the data"
   ]
  },
  {
   "cell_type": "code",
   "execution_count": 65,
   "metadata": {},
   "outputs": [
    {
     "data": {
      "text/html": [
       "<div>\n",
       "<style scoped>\n",
       "    .dataframe tbody tr th:only-of-type {\n",
       "        vertical-align: middle;\n",
       "    }\n",
       "\n",
       "    .dataframe tbody tr th {\n",
       "        vertical-align: top;\n",
       "    }\n",
       "\n",
       "    .dataframe thead th {\n",
       "        text-align: right;\n",
       "    }\n",
       "</style>\n",
       "<table border=\"1\" class=\"dataframe\">\n",
       "  <thead>\n",
       "    <tr style=\"text-align: right;\">\n",
       "      <th></th>\n",
       "      <th>age</th>\n",
       "      <th>job</th>\n",
       "      <th>marital</th>\n",
       "      <th>education</th>\n",
       "      <th>default</th>\n",
       "      <th>balance</th>\n",
       "      <th>housing</th>\n",
       "      <th>loan</th>\n",
       "      <th>contact</th>\n",
       "      <th>day</th>\n",
       "      <th>month</th>\n",
       "      <th>duration</th>\n",
       "      <th>campaign</th>\n",
       "      <th>pdays</th>\n",
       "      <th>previous</th>\n",
       "      <th>poutcome</th>\n",
       "      <th>y</th>\n",
       "    </tr>\n",
       "  </thead>\n",
       "  <tbody>\n",
       "    <tr>\n",
       "      <th>0</th>\n",
       "      <td>58</td>\n",
       "      <td>management</td>\n",
       "      <td>married</td>\n",
       "      <td>tertiary</td>\n",
       "      <td>no</td>\n",
       "      <td>2143</td>\n",
       "      <td>yes</td>\n",
       "      <td>no</td>\n",
       "      <td>unknown</td>\n",
       "      <td>5</td>\n",
       "      <td>may</td>\n",
       "      <td>261</td>\n",
       "      <td>1</td>\n",
       "      <td>-1</td>\n",
       "      <td>0</td>\n",
       "      <td>unknown</td>\n",
       "      <td>no</td>\n",
       "    </tr>\n",
       "    <tr>\n",
       "      <th>1</th>\n",
       "      <td>44</td>\n",
       "      <td>technician</td>\n",
       "      <td>single</td>\n",
       "      <td>secondary</td>\n",
       "      <td>no</td>\n",
       "      <td>29</td>\n",
       "      <td>yes</td>\n",
       "      <td>no</td>\n",
       "      <td>unknown</td>\n",
       "      <td>5</td>\n",
       "      <td>may</td>\n",
       "      <td>151</td>\n",
       "      <td>1</td>\n",
       "      <td>-1</td>\n",
       "      <td>0</td>\n",
       "      <td>unknown</td>\n",
       "      <td>no</td>\n",
       "    </tr>\n",
       "    <tr>\n",
       "      <th>2</th>\n",
       "      <td>33</td>\n",
       "      <td>entrepreneur</td>\n",
       "      <td>married</td>\n",
       "      <td>secondary</td>\n",
       "      <td>no</td>\n",
       "      <td>2</td>\n",
       "      <td>yes</td>\n",
       "      <td>yes</td>\n",
       "      <td>unknown</td>\n",
       "      <td>5</td>\n",
       "      <td>may</td>\n",
       "      <td>76</td>\n",
       "      <td>1</td>\n",
       "      <td>-1</td>\n",
       "      <td>0</td>\n",
       "      <td>unknown</td>\n",
       "      <td>no</td>\n",
       "    </tr>\n",
       "    <tr>\n",
       "      <th>3</th>\n",
       "      <td>47</td>\n",
       "      <td>blue-collar</td>\n",
       "      <td>married</td>\n",
       "      <td>unknown</td>\n",
       "      <td>no</td>\n",
       "      <td>1506</td>\n",
       "      <td>yes</td>\n",
       "      <td>no</td>\n",
       "      <td>unknown</td>\n",
       "      <td>5</td>\n",
       "      <td>may</td>\n",
       "      <td>92</td>\n",
       "      <td>1</td>\n",
       "      <td>-1</td>\n",
       "      <td>0</td>\n",
       "      <td>unknown</td>\n",
       "      <td>no</td>\n",
       "    </tr>\n",
       "    <tr>\n",
       "      <th>4</th>\n",
       "      <td>33</td>\n",
       "      <td>unknown</td>\n",
       "      <td>single</td>\n",
       "      <td>unknown</td>\n",
       "      <td>no</td>\n",
       "      <td>1</td>\n",
       "      <td>no</td>\n",
       "      <td>no</td>\n",
       "      <td>unknown</td>\n",
       "      <td>5</td>\n",
       "      <td>may</td>\n",
       "      <td>198</td>\n",
       "      <td>1</td>\n",
       "      <td>-1</td>\n",
       "      <td>0</td>\n",
       "      <td>unknown</td>\n",
       "      <td>no</td>\n",
       "    </tr>\n",
       "  </tbody>\n",
       "</table>\n",
       "</div>"
      ],
      "text/plain": [
       "   age           job  marital  education default  balance housing loan  \\\n",
       "0   58    management  married   tertiary      no     2143     yes   no   \n",
       "1   44    technician   single  secondary      no       29     yes   no   \n",
       "2   33  entrepreneur  married  secondary      no        2     yes  yes   \n",
       "3   47   blue-collar  married    unknown      no     1506     yes   no   \n",
       "4   33       unknown   single    unknown      no        1      no   no   \n",
       "\n",
       "   contact  day month  duration  campaign  pdays  previous poutcome   y  \n",
       "0  unknown    5   may       261         1     -1         0  unknown  no  \n",
       "1  unknown    5   may       151         1     -1         0  unknown  no  \n",
       "2  unknown    5   may        76         1     -1         0  unknown  no  \n",
       "3  unknown    5   may        92         1     -1         0  unknown  no  \n",
       "4  unknown    5   may       198         1     -1         0  unknown  no  "
      ]
     },
     "execution_count": 65,
     "metadata": {},
     "output_type": "execute_result"
    }
   ],
   "source": [
    "#print the 5 first value\n",
    "original_data.head()\n"
   ]
  },
  {
   "cell_type": "code",
   "execution_count": 66,
   "metadata": {},
   "outputs": [
    {
     "data": {
      "text/html": [
       "<div>\n",
       "<style scoped>\n",
       "    .dataframe tbody tr th:only-of-type {\n",
       "        vertical-align: middle;\n",
       "    }\n",
       "\n",
       "    .dataframe tbody tr th {\n",
       "        vertical-align: top;\n",
       "    }\n",
       "\n",
       "    .dataframe thead th {\n",
       "        text-align: right;\n",
       "    }\n",
       "</style>\n",
       "<table border=\"1\" class=\"dataframe\">\n",
       "  <thead>\n",
       "    <tr style=\"text-align: right;\">\n",
       "      <th></th>\n",
       "      <th>age</th>\n",
       "      <th>balance</th>\n",
       "      <th>day</th>\n",
       "      <th>duration</th>\n",
       "      <th>campaign</th>\n",
       "      <th>pdays</th>\n",
       "      <th>previous</th>\n",
       "    </tr>\n",
       "  </thead>\n",
       "  <tbody>\n",
       "    <tr>\n",
       "      <th>count</th>\n",
       "      <td>45211.000000</td>\n",
       "      <td>45211.000000</td>\n",
       "      <td>45211.000000</td>\n",
       "      <td>45211.000000</td>\n",
       "      <td>45211.000000</td>\n",
       "      <td>45211.000000</td>\n",
       "      <td>45211.000000</td>\n",
       "    </tr>\n",
       "    <tr>\n",
       "      <th>mean</th>\n",
       "      <td>40.936210</td>\n",
       "      <td>1362.272058</td>\n",
       "      <td>15.806419</td>\n",
       "      <td>258.163080</td>\n",
       "      <td>2.763841</td>\n",
       "      <td>40.197828</td>\n",
       "      <td>0.580323</td>\n",
       "    </tr>\n",
       "    <tr>\n",
       "      <th>std</th>\n",
       "      <td>10.618762</td>\n",
       "      <td>3044.765829</td>\n",
       "      <td>8.322476</td>\n",
       "      <td>257.527812</td>\n",
       "      <td>3.098021</td>\n",
       "      <td>100.128746</td>\n",
       "      <td>2.303441</td>\n",
       "    </tr>\n",
       "    <tr>\n",
       "      <th>min</th>\n",
       "      <td>18.000000</td>\n",
       "      <td>-8019.000000</td>\n",
       "      <td>1.000000</td>\n",
       "      <td>0.000000</td>\n",
       "      <td>1.000000</td>\n",
       "      <td>-1.000000</td>\n",
       "      <td>0.000000</td>\n",
       "    </tr>\n",
       "    <tr>\n",
       "      <th>25%</th>\n",
       "      <td>33.000000</td>\n",
       "      <td>72.000000</td>\n",
       "      <td>8.000000</td>\n",
       "      <td>103.000000</td>\n",
       "      <td>1.000000</td>\n",
       "      <td>-1.000000</td>\n",
       "      <td>0.000000</td>\n",
       "    </tr>\n",
       "    <tr>\n",
       "      <th>50%</th>\n",
       "      <td>39.000000</td>\n",
       "      <td>448.000000</td>\n",
       "      <td>16.000000</td>\n",
       "      <td>180.000000</td>\n",
       "      <td>2.000000</td>\n",
       "      <td>-1.000000</td>\n",
       "      <td>0.000000</td>\n",
       "    </tr>\n",
       "    <tr>\n",
       "      <th>75%</th>\n",
       "      <td>48.000000</td>\n",
       "      <td>1428.000000</td>\n",
       "      <td>21.000000</td>\n",
       "      <td>319.000000</td>\n",
       "      <td>3.000000</td>\n",
       "      <td>-1.000000</td>\n",
       "      <td>0.000000</td>\n",
       "    </tr>\n",
       "    <tr>\n",
       "      <th>max</th>\n",
       "      <td>95.000000</td>\n",
       "      <td>102127.000000</td>\n",
       "      <td>31.000000</td>\n",
       "      <td>4918.000000</td>\n",
       "      <td>63.000000</td>\n",
       "      <td>871.000000</td>\n",
       "      <td>275.000000</td>\n",
       "    </tr>\n",
       "  </tbody>\n",
       "</table>\n",
       "</div>"
      ],
      "text/plain": [
       "                age        balance           day      duration      campaign  \\\n",
       "count  45211.000000   45211.000000  45211.000000  45211.000000  45211.000000   \n",
       "mean      40.936210    1362.272058     15.806419    258.163080      2.763841   \n",
       "std       10.618762    3044.765829      8.322476    257.527812      3.098021   \n",
       "min       18.000000   -8019.000000      1.000000      0.000000      1.000000   \n",
       "25%       33.000000      72.000000      8.000000    103.000000      1.000000   \n",
       "50%       39.000000     448.000000     16.000000    180.000000      2.000000   \n",
       "75%       48.000000    1428.000000     21.000000    319.000000      3.000000   \n",
       "max       95.000000  102127.000000     31.000000   4918.000000     63.000000   \n",
       "\n",
       "              pdays      previous  \n",
       "count  45211.000000  45211.000000  \n",
       "mean      40.197828      0.580323  \n",
       "std      100.128746      2.303441  \n",
       "min       -1.000000      0.000000  \n",
       "25%       -1.000000      0.000000  \n",
       "50%       -1.000000      0.000000  \n",
       "75%       -1.000000      0.000000  \n",
       "max      871.000000    275.000000  "
      ]
     },
     "execution_count": 66,
     "metadata": {},
     "output_type": "execute_result"
    }
   ],
   "source": [
    "#print descriptive statistics\n",
    "original_data.describe()\n",
    "# We observe some extreme maximum values and high standard deviation values\n",
    "# which will be further investigated"
   ]
  },
  {
   "cell_type": "code",
   "execution_count": 67,
   "metadata": {},
   "outputs": [
    {
     "name": "stdout",
     "output_type": "stream",
     "text": [
      "<class 'pandas.core.frame.DataFrame'>\n",
      "RangeIndex: 45211 entries, 0 to 45210\n",
      "Data columns (total 17 columns):\n",
      "age          45211 non-null int64\n",
      "job          45211 non-null object\n",
      "marital      45211 non-null object\n",
      "education    45211 non-null object\n",
      "default      45211 non-null object\n",
      "balance      45211 non-null int64\n",
      "housing      45211 non-null object\n",
      "loan         45211 non-null object\n",
      "contact      45211 non-null object\n",
      "day          45211 non-null int64\n",
      "month        45211 non-null object\n",
      "duration     45211 non-null int64\n",
      "campaign     45211 non-null int64\n",
      "pdays        45211 non-null int64\n",
      "previous     45211 non-null int64\n",
      "poutcome     45211 non-null object\n",
      "y            45211 non-null object\n",
      "dtypes: int64(7), object(10)\n",
      "memory usage: 5.9+ MB\n"
     ]
    }
   ],
   "source": [
    "# print additional info about the type of data\n",
    "original_data.info()"
   ]
  },
  {
   "cell_type": "code",
   "execution_count": 68,
   "metadata": {},
   "outputs": [
    {
     "name": "stdout",
     "output_type": "stream",
     "text": [
      "\n",
      "Jobs:  ['management' 'technician' 'entrepreneur' 'blue-collar' 'unknown'\n",
      " 'retired' 'admin.' 'services' 'self-employed' 'unemployed' 'housemaid'\n",
      " 'student']\n",
      "\n",
      "Marital status:  ['married' 'single' 'divorced']\n",
      "\n",
      "Education:  ['tertiary' 'secondary' 'unknown' 'primary']\n",
      "\n",
      "Credit in default:  ['no' 'yes']\n",
      "\n",
      "Housing loan:  ['yes' 'no']\n",
      "\n",
      "Personal loan:  ['no' 'yes']\n",
      "\n",
      "Contact channel:  ['unknown' 'cellular' 'telephone']\n",
      "\n",
      "Month:  ['may' 'jun' 'jul' 'aug' 'oct' 'nov' 'dec' 'jan' 'feb' 'mar' 'apr' 'sep']\n",
      "\n",
      "Previous campaign outcome:  ['unknown' 'failure' 'other' 'success']\n",
      "\n",
      "Default:  ['no' 'yes']\n"
     ]
    }
   ],
   "source": [
    "# Looking through the data points alternativelly marked as missing values\n",
    "print('\\nJobs: ', original_data.job.unique())\n",
    "print('\\nMarital status: ', original_data.marital.unique())\n",
    "print('\\nEducation: ', original_data.education.unique())\n",
    "print('\\nCredit in default: ', original_data.default.unique())\n",
    "print('\\nHousing loan: ', original_data.housing.unique())\n",
    "print('\\nPersonal loan: ', original_data.loan.unique())\n",
    "print('\\nContact channel: ', original_data.contact.unique())\n",
    "print('\\nMonth: ', original_data.month.unique())\n",
    "print('\\nPrevious campaign outcome: ', original_data.poutcome.unique())\n",
    "print('\\nDefault: ', original_data.default.unique())"
   ]
  },
  {
   "cell_type": "code",
   "execution_count": 69,
   "metadata": {},
   "outputs": [
    {
     "name": "stdout",
     "output_type": "stream",
     "text": [
      "\n",
      "Unknown values in job:  288\n",
      "\n",
      "Unknown values in education:  1857\n",
      "\n",
      "Unknown values in contact:  13020\n",
      "\n",
      "Unknown values in poutcome:  36959\n"
     ]
    }
   ],
   "source": [
    "# Potential missing values\n",
    "print('\\nUnknown values in job: ', (original_data.job == 'unknown').sum())\n",
    "print('\\nUnknown values in education: ', (original_data.education == 'unknown').sum())\n",
    "print('\\nUnknown values in contact: ', (original_data.contact == 'unknown').sum())\n",
    "print('\\nUnknown values in poutcome: ', (original_data.poutcome == 'unknown').sum())"
   ]
  },
  {
   "cell_type": "code",
   "execution_count": 70,
   "metadata": {},
   "outputs": [
    {
     "data": {
      "text/plain": [
       "blue-collar    9732\n",
       "management     9458\n",
       "technician     7597\n",
       "admin.         5171\n",
       "services       4154\n",
       "Name: job, dtype: int64"
      ]
     },
     "execution_count": 70,
     "metadata": {},
     "output_type": "execute_result"
    }
   ],
   "source": [
    "### we want to know how much missing values there is\n",
    "\n",
    "original_data['job'].value_counts()[:5]"
   ]
  },
  {
   "cell_type": "code",
   "execution_count": 71,
   "metadata": {},
   "outputs": [
    {
     "data": {
      "text/plain": [
       "secondary    23202\n",
       "tertiary     13301\n",
       "primary       6851\n",
       "unknown       1857\n",
       "Name: education, dtype: int64"
      ]
     },
     "execution_count": 71,
     "metadata": {},
     "output_type": "execute_result"
    }
   ],
   "source": [
    "original_data['education'].value_counts()"
   ]
  },
  {
   "cell_type": "code",
   "execution_count": 72,
   "metadata": {},
   "outputs": [
    {
     "data": {
      "text/plain": [
       "1    17544\n",
       "2    12505\n",
       "3     5521\n",
       "4     3522\n",
       "5     1764\n",
       "Name: campaign, dtype: int64"
      ]
     },
     "execution_count": 72,
     "metadata": {},
     "output_type": "execute_result"
    }
   ],
   "source": [
    "original_data['campaign'].value_counts()[:5]"
   ]
  },
  {
   "cell_type": "code",
   "execution_count": 73,
   "metadata": {},
   "outputs": [
    {
     "name": "stdout",
     "output_type": "stream",
     "text": [
      "0.8174780473778506\n"
     ]
    }
   ],
   "source": [
    "original_data['poutcome'].value_counts()\n",
    "print(36959/len(original_data.poutcome))\n",
    "\n",
    "#81 % of the data are unknown. We may delete this column"
   ]
  },
  {
   "cell_type": "code",
   "execution_count": 74,
   "metadata": {},
   "outputs": [
    {
     "data": {
      "text/plain": [
       "cellular     29285\n",
       "unknown      13020\n",
       "telephone     2906\n",
       "Name: contact, dtype: int64"
      ]
     },
     "execution_count": 74,
     "metadata": {},
     "output_type": "execute_result"
    }
   ],
   "source": [
    "original_data['contact'].value_counts()\n",
    "# this is not a feature we are interested in. \n",
    "# contact communication type (categorical: \"unknown\",\"telephone\",\"cellular\") \n",
    "\n",
    "# we may delete this column"
   ]
  },
  {
   "cell_type": "code",
   "execution_count": null,
   "metadata": {},
   "outputs": [],
   "source": []
  },
  {
   "cell_type": "code",
   "execution_count": 75,
   "metadata": {},
   "outputs": [
    {
     "name": "stdout",
     "output_type": "stream",
     "text": [
      "\n",
      "Good data!\n",
      "\n",
      "Good data!\n",
      "\n",
      "Good data!\n",
      "\n",
      "Good data!\n",
      "\n",
      "Good data!\n",
      "\n",
      "Good data!\n"
     ]
    }
   ],
   "source": [
    "# Ensuring there no unnatural values\n",
    "if(original_data.age.any() < 0 or original_data.age.any() > 100):\n",
    "    print('\\nLikely Impossible!')\n",
    "else:\n",
    "    print('\\nGood data!')\n",
    "if(original_data.day.any() < 1 or original_data.age.any() > 31):\n",
    "    print('\\nLikely Impossible!')\n",
    "else:\n",
    "    print('\\nGood data!')\n",
    "if(original_data.duration.any() <= 0):\n",
    "    print('\\nLikely Impossible!')\n",
    "else:\n",
    "    print('\\nGood data!')\n",
    "if(original_data.campaign.any() <= 0):\n",
    "    print('\\nLikely Impossible!')\n",
    "else:\n",
    "    print('\\nGood data!')\n",
    "if(original_data.previous.any() <= 0):\n",
    "    print('\\nLikely Impossible!')\n",
    "else:\n",
    "    print('\\nGood data!')\n",
    "if(original_data.pdays.any() < 0 and original_data.pdays.any() != -1):\n",
    "    print('\\nLikely Impossible!')\n",
    "else:\n",
    "    print('\\nGood data!')"
   ]
  },
  {
   "cell_type": "markdown",
   "metadata": {},
   "source": [
    "### At this stage we should delete contact and poutcome"
   ]
  },
  {
   "cell_type": "code",
   "execution_count": 76,
   "metadata": {},
   "outputs": [],
   "source": [
    "original_data = original_data.drop(['contact','poutcome'], axis=1)"
   ]
  },
  {
   "cell_type": "code",
   "execution_count": null,
   "metadata": {},
   "outputs": [],
   "source": []
  },
  {
   "cell_type": "markdown",
   "metadata": {},
   "source": [
    "### Visualisation"
   ]
  },
  {
   "cell_type": "code",
   "execution_count": 77,
   "metadata": {},
   "outputs": [
    {
     "data": {
      "text/plain": [
       "Text(0.5,0,'Age')"
      ]
     },
     "execution_count": 77,
     "metadata": {},
     "output_type": "execute_result"
    },
    {
     "data": {
      "image/png": "[encoded data removed]",
      "text/plain": [
       "<Figure size 432x288 with 1 Axes>"
      ]
     },
     "metadata": {},
     "output_type": "display_data"
    }
   ],
   "source": [
    "# Count plot of 'age' feature\n",
    "sns.set(style = 'darkgrid')\n",
    "ax = sns.distplot(original_data.age, kde = False, color = '#FF3A03')\n",
    "ax.set_title('Age Values Count', color = '#0E189C')\n",
    "ax.set_ylabel('Frequency', color= '#0E189C')\n",
    "ax.set_xlabel('Age', color = '#0E189C')"
   ]
  },
  {
   "cell_type": "code",
   "execution_count": 78,
   "metadata": {},
   "outputs": [
    {
     "name": "stdout",
     "output_type": "stream",
     "text": [
      "7168\n"
     ]
    },
    {
     "data": {
      "text/plain": [
       "Text(0.5,0,'Balance($)')"
      ]
     },
     "execution_count": 78,
     "metadata": {},
     "output_type": "execute_result"
    },
    {
     "data": {
      "image/png": "[encoded data removed]",
      "text/plain": [
       "<Figure size 432x288 with 1 Axes>"
      ]
     },
     "metadata": {},
     "output_type": "display_data"
    }
   ],
   "source": [
    "# Count plot of 'balance' feature\n",
    "# Find how many data points are, to know how many bins to create\n",
    "balance_array = original_data.balance.unique()\n",
    "print(len(balance_array))\n",
    "# Plot histogram\n",
    "sns.set()\n",
    "ax1 = sns.distplot(original_data.balance, bins = 84, kde = False, color = '#FF3A03')\n",
    "ax1.set_title('Balance Values Count', color = '#0E189C')\n",
    "ax1.set_ylabel('Frequency', color = '#0E189C')\n",
    "ax1.set_xlabel('Balance($)', color = '#0E189C')"
   ]
  },
  {
   "cell_type": "code",
   "execution_count": 79,
   "metadata": {},
   "outputs": [
    {
     "name": "stdout",
     "output_type": "stream",
     "text": [
      "6988\n"
     ]
    },
    {
     "data": {
      "text/plain": [
       "Text(0.5,0,'Balance($)')"
      ]
     },
     "execution_count": 79,
     "metadata": {},
     "output_type": "execute_result"
    },
    {
     "data": {
      "image/png": "[encoded data removed]",
      "text/plain": [
       "<Figure size 432x288 with 1 Axes>"
      ]
     },
     "metadata": {},
     "output_type": "display_data"
    }
   ],
   "source": [
    "# Outliers in balance\n",
    "copy_2 = original_data\n",
    "copy_1 = copy_2\n",
    "copy_1.balance = copy_1.balance.where(copy_1.balance < 20000, other = 20000)\n",
    "copy_1.balance = copy_1.balance.where(copy_1.balance > -2000, other = -2000)\n",
    "balance_array = copy_1.balance.unique()\n",
    "print(len(balance_array))\n",
    "sns.set()\n",
    "ax = sns.distplot(copy_1.balance, bins = 84, kde = False, color = '#FF3A03')\n",
    "ax.set_title('Balance Values Count', color = '#0E189C')\n",
    "ax.set_ylabel('Frequency', color = '#0E189C')\n",
    "ax.set_xlabel('Balance($)', color = '#0E189C')"
   ]
  },
  {
   "cell_type": "code",
   "execution_count": 80,
   "metadata": {},
   "outputs": [
    {
     "data": {
      "text/plain": [
       "Text(0.5,0,'Balance($)')"
      ]
     },
     "execution_count": 80,
     "metadata": {},
     "output_type": "execute_result"
    },
    {
     "data": {
      "image/png": "[encoded data removed]",
      "text/plain": [
       "<Figure size 432x288 with 1 Axes>"
      ]
     },
     "metadata": {},
     "output_type": "display_data"
    }
   ],
   "source": [
    "sns.set()\n",
    "ax = sns.boxplot(copy_1.balance, color = '#FF3A03')\n",
    "ax.set_title('Balance Values Count', color = '#0E189C')\n",
    "ax.set_ylabel('Frequency', color = '#0E189C')\n",
    "ax.set_xlabel('Balance($)', color = '#0E189C')"
   ]
  },
  {
   "cell_type": "code",
   "execution_count": 81,
   "metadata": {},
   "outputs": [
    {
     "name": "stdout",
     "output_type": "stream",
     "text": [
      "1573\n"
     ]
    },
    {
     "data": {
      "text/plain": [
       "Text(0.5,0,'Duration(s)')"
      ]
     },
     "execution_count": 81,
     "metadata": {},
     "output_type": "execute_result"
    },
    {
     "data": {
      "image/png": "[encoded data removed]",
      "text/plain": [
       "<Figure size 432x288 with 1 Axes>"
      ]
     },
     "metadata": {},
     "output_type": "display_data"
    }
   ],
   "source": [
    "# Count plot of 'duration' feature\n",
    "# Find how many data points are, to know how many bins to create\n",
    "duration_array = original_data.duration.unique()\n",
    "print(len(duration_array))\n",
    "# Plot histogram\n",
    "sns.set(style = 'darkgrid')\n",
    "ax = sns.distplot(original_data.duration, bins = 40, kde = False, color = '#FF3A03')\n",
    "ax.set_title('Durations Count', color = '#0E189C')\n",
    "ax.set_ylabel('Frequency', color= '#0E189C')\n",
    "ax.set_xlabel('Duration(s)', color = '#0E189C')"
   ]
  },
  {
   "cell_type": "code",
   "execution_count": 82,
   "metadata": {},
   "outputs": [
    {
     "name": "stdout",
     "output_type": "stream",
     "text": [
      "1517\n"
     ]
    },
    {
     "data": {
      "text/plain": [
       "Text(0.5,0,'Duration(s)')"
      ]
     },
     "execution_count": 82,
     "metadata": {},
     "output_type": "execute_result"
    },
    {
     "data": {
      "image/png": "[encoded data removed]",
      "text/plain": [
       "<Figure size 432x288 with 1 Axes>"
      ]
     },
     "metadata": {},
     "output_type": "display_data"
    }
   ],
   "source": [
    "# Outliers in duration\n",
    "copy_2 = original_data\n",
    "copy_1 = copy_2\n",
    "copy_1.duration = copy_1.duration.where(copy_1.duration < 2000, other = 2000)\n",
    "balance_array = copy_1.duration.unique()\n",
    "print(len(balance_array))\n",
    "sns.set()\n",
    "ax = sns.distplot(copy_1.duration, bins = 40, kde = False, color = '#FF3A03')\n",
    "ax.set_title('Duration Values Count', color = '#0E189C')\n",
    "ax.set_ylabel('Frequency', color = '#0E189C')\n",
    "ax.set_xlabel('Duration(s)', color = '#0E189C')"
   ]
  },
  {
   "cell_type": "code",
   "execution_count": 83,
   "metadata": {},
   "outputs": [
    {
     "data": {
      "text/plain": [
       "Text(0.5,0,'Duration(s)')"
      ]
     },
     "execution_count": 83,
     "metadata": {},
     "output_type": "execute_result"
    },
    {
     "data": {
      "image/png": "[encoded data removed]",
      "text/plain": [
       "<Figure size 432x288 with 1 Axes>"
      ]
     },
     "metadata": {},
     "output_type": "display_data"
    }
   ],
   "source": [
    "sns.set()\n",
    "ax = sns.boxplot(copy_1.duration, color = '#FF3A03')\n",
    "ax.set_title('Duration percentiles', color = '#0E189C')\n",
    "ax.set_ylabel('Frequency', color = '#0E189C')\n",
    "ax.set_xlabel('Duration(s)', color = '#0E189C')"
   ]
  },
  {
   "cell_type": "code",
   "execution_count": 84,
   "metadata": {},
   "outputs": [
    {
     "data": {
      "text/plain": [
       "Text(0.5,0,'campaign')"
      ]
     },
     "execution_count": 84,
     "metadata": {},
     "output_type": "execute_result"
    },
    {
     "data": {
      "image/png": "[encoded data removed]",
      "text/plain": [
       "<Figure size 432x288 with 1 Axes>"
      ]
     },
     "metadata": {},
     "output_type": "display_data"
    }
   ],
   "source": [
    "sns.set()\n",
    "ax = sns.boxplot(copy_1.campaign, color = '#FF3A03')\n",
    "ax.set_title('Campaign Values Count', color = '#0E189C')\n",
    "ax.set_ylabel('Frequency', color = '#0E189C')\n",
    "ax.set_xlabel('campaign', color = '#0E189C')"
   ]
  },
  {
   "cell_type": "code",
   "execution_count": 85,
   "metadata": {},
   "outputs": [
    {
     "data": {
      "text/plain": [
       "Text(0.5,0,'Previous')"
      ]
     },
     "execution_count": 85,
     "metadata": {},
     "output_type": "execute_result"
    },
    {
     "data": {
      "image/png": "[encoded data removed]",
      "text/plain": [
       "<Figure size 432x288 with 1 Axes>"
      ]
     },
     "metadata": {},
     "output_type": "display_data"
    }
   ],
   "source": [
    "copy_1.previous = copy_1.previous.where(copy_1.previous < 50, other = 50)\n",
    "sns.set()\n",
    "ax = sns.boxplot(copy_1.previous, color = '#FF3A03')\n",
    "ax.set_title('Previous Values Count', color = '#0E189C')\n",
    "ax.set_ylabel('Frequency', color = '#0E189C')\n",
    "ax.set_xlabel('Previous', color = '#0E189C')"
   ]
  },
  {
   "cell_type": "code",
   "execution_count": 86,
   "metadata": {},
   "outputs": [
    {
     "data": {
      "text/plain": [
       "Text(0.5,0,'Pdays')"
      ]
     },
     "execution_count": 86,
     "metadata": {},
     "output_type": "execute_result"
    },
    {
     "data": {
      "image/png": "[encoded data removed]",
      "text/plain": [
       "<Figure size 432x288 with 1 Axes>"
      ]
     },
     "metadata": {},
     "output_type": "display_data"
    }
   ],
   "source": [
    "sns.set()\n",
    "ax = sns.boxplot(copy_1.pdays, color = '#FF3A03')\n",
    "ax.set_title('Pdays Values Count', color = '#0E189C')\n",
    "ax.set_ylabel('Frequency', color = '#0E189C')\n",
    "ax.set_xlabel('Pdays', color = '#0E189C')"
   ]
  },
  {
   "cell_type": "code",
   "execution_count": 87,
   "metadata": {},
   "outputs": [
    {
     "data": {
      "text/plain": [
       "<matplotlib.axes._subplots.AxesSubplot at 0x1248f1ae6d8>"
      ]
     },
     "execution_count": 87,
     "metadata": {},
     "output_type": "execute_result"
    },
    {
     "data": {
      "image/png": "[encoded data removed]",
      "text/plain": [
       "<Figure size 432x288 with 2 Axes>"
      ]
     },
     "metadata": {},
     "output_type": "display_data"
    }
   ],
   "source": [
    "#splt.matshow(original_data.corr(method ='pearson'))\n",
    "\n",
    "#ploting correlation between numerical features\n",
    "corr =original_data.corr(method = 'pearson')\n",
    "sns.heatmap(corr)"
   ]
  },
  {
   "cell_type": "code",
   "execution_count": 89,
   "metadata": {},
   "outputs": [
    {
     "name": "stdout",
     "output_type": "stream",
     "text": [
      "[0, 1, 2, 3, 4, 5, 6, 7, 8, 9, 10, 11] [ 0  1  2  3  4  5  6  7  8  9 10 11]\n"
     ]
    }
   ],
   "source": [
    "#data transformation. From categorical to numerical value\n",
    "\n",
    "le = preprocessing.LabelEncoder()\n",
    "le.fit(original_data['job'])\n",
    "original_data['job'] = (le.transform(original_data['job']))\n",
    "x = [x for x in range(len(set(original_data['job'])))]\n",
    "print(x,le.inverse_transform(x) )\n",
    "\n",
    "le.fit(original_data['marital'])\n",
    "original_data['marital'] = (le.transform(original_data['marital']))\n",
    "\n",
    "le.fit(original_data['education'])\n",
    "original_data['education'] = (le.transform(original_data['education']))\n",
    "\n",
    "le.fit(original_data['default'])\n",
    "original_data['default'] = (le.transform(original_data['default']))\n",
    "\n",
    "le.fit(original_data['housing'])\n",
    "original_data['housing'] = (le.transform(original_data['housing']))\n",
    "\n",
    "le.fit(original_data['loan'])\n",
    "original_data['loan'] = (le.transform(original_data['loan']))\n",
    "\n",
    "\n",
    "le.fit(original_data['month'])\n",
    "original_data['month'] = (le.transform(original_data['month']))\n",
    "\n",
    "\n",
    "le.fit(original_data['y'])\n",
    "original_data['y'] = (le.transform(original_data['y']))"
   ]
  },
  {
   "cell_type": "code",
   "execution_count": 90,
   "metadata": {},
   "outputs": [
    {
     "data": {
      "text/plain": [
       "<matplotlib.axes._subplots.AxesSubplot at 0x1248f246be0>"
      ]
     },
     "execution_count": 90,
     "metadata": {},
     "output_type": "execute_result"
    },
    {
     "data": {
      "image/png": "[encoded data removed]",
      "text/plain": [
       "<Figure size 432x288 with 2 Axes>"
      ]
     },
     "metadata": {},
     "output_type": "display_data"
    }
   ],
   "source": [
    "corr =original_data.corr(method = 'pearson')\n",
    "sns.heatmap(corr)"
   ]
  },
  {
   "cell_type": "code",
   "execution_count": 93,
   "metadata": {},
   "outputs": [
    {
     "name": "stdout",
     "output_type": "stream",
     "text": [
      "0    39922\n",
      "1     5289\n",
      "Name: y, dtype: int64\n"
     ]
    }
   ],
   "source": [
    "### we want to know the repartition of the class\n",
    "print(original_data.y.value_counts())"
   ]
  },
  {
   "cell_type": "code",
   "execution_count": 94,
   "metadata": {},
   "outputs": [
    {
     "name": "stdout",
     "output_type": "stream",
     "text": [
      "proportion of classes:\n",
      " 0    0.883015\n",
      "1    0.116985\n",
      "Name: y, dtype: float64\n"
     ]
    }
   ],
   "source": [
    "print(\"proportion of classes:\\n\", original_data.y.value_counts()/len(original_data.y))"
   ]
  },
  {
   "cell_type": "code",
   "execution_count": null,
   "metadata": {},
   "outputs": [],
   "source": []
  },
  {
   "cell_type": "markdown",
   "metadata": {},
   "source": [
    "### we have to prepare our data set and divide into training and test\n",
    "\n",
    "The first group of data will have the same proportion as the data\n",
    "\n",
    "The second group of data will be balanced in terms of output variable"
   ]
  },
  {
   "cell_type": "code",
   "execution_count": 127,
   "metadata": {},
   "outputs": [],
   "source": [
    "# we need to differenciate the output and input variable\n",
    "\n",
    "x = original_data.iloc[:,:-1]\n",
    "y = original_data.iloc[:,-1]"
   ]
  },
  {
   "cell_type": "code",
   "execution_count": 135,
   "metadata": {},
   "outputs": [
    {
     "data": {
      "text/plain": [
       "14920"
      ]
     },
     "execution_count": 135,
     "metadata": {},
     "output_type": "execute_result"
    }
   ],
   "source": [
    "# This one will have the same proportion as the original dataset\n",
    "X_train, X_test, y_train, y_test = train_test_split(x, y, test_size=0.33)\n",
    "\n",
    "\n"
   ]
  },
  {
   "cell_type": "code",
   "execution_count": 130,
   "metadata": {},
   "outputs": [
    {
     "data": {
      "text/plain": [
       "30291"
      ]
     },
     "execution_count": 130,
     "metadata": {},
     "output_type": "execute_result"
    }
   ],
   "source": [
    "C1= original_data[original_data['y']==1]\n",
    "C0 = original_data[original_data['y']==0].sample(n=len(C1), random_state=0)\n",
    "data_balanced = pd.concat([C0, C1])\n",
    "x1 = data_balanced.iloc[:,:-1]\n",
    "y1 = data_balanced.iloc[:,-1]\n",
    "\n",
    "#This one will be balanced\n",
    "X_train1, X_test1, y_train1, y_test1 = train_test_split(x1, y1, test_size=0.33)\n",
    "\n",
    "\n",
    "data_balanced.describe()\n"
   ]
  },
  {
   "cell_type": "code",
   "execution_count": 134,
   "metadata": {},
   "outputs": [],
   "source": [
    "#### SANDARDIZE THE DATA ########\n",
    "#### SANDARDIZE THE DATA ########\n",
    "#preprocessing.StandardScaler().fit(X_train)\n",
    "X_train = preprocessing.StandardScaler().fit_transform(X_train)\n",
    "X_test = preprocessing.StandardScaler().fit_transform(X_test)\n",
    "\n",
    "\n",
    "X_train1 = preprocessing.StandardScaler().fit_transform(X_train1)\n",
    "X_test1 = preprocessing.StandardScaler().fit_transform(X_test1)\n"
   ]
  },
  {
   "cell_type": "code",
   "execution_count": 123,
   "metadata": {},
   "outputs": [],
   "source": [
    "# We know that we have enough data to keep all the features \n",
    "#but we still want to try a pca algoritmh to not repeat variables"
   ]
  },
  {
   "cell_type": "code",
   "execution_count": 125,
   "metadata": {},
   "outputs": [
    {
     "data": {
      "text/plain": [
       "7087"
      ]
     },
     "execution_count": 125,
     "metadata": {},
     "output_type": "execute_result"
    }
   ],
   "source": [
    "\n",
    "pca = PCA(.95)\n",
    "pca.fit(X_train1)\n",
    "X_train1_new = pca.transform(X_train1)\n",
    "X_test1_new = pca.transform(X_test1)\n",
    "pca.explained_variance_ratio_\n",
    "#we can see with the explained variance ratio that there is not  \n",
    "# principal component and all the data seems essential"
   ]
  },
  {
   "cell_type": "code",
   "execution_count": null,
   "metadata": {},
   "outputs": [],
   "source": []
  },
  {
   "cell_type": "markdown",
   "metadata": {},
   "source": [
    "### We start classifying"
   ]
  },
  {
   "cell_type": "code",
   "execution_count": 184,
   "metadata": {},
   "outputs": [],
   "source": [
    "### we will need a function to plot the ROC function\n",
    "\n",
    "def ROC(test, prediction):\n",
    "    \n",
    "    n = len(prediction)\n",
    "    \n",
    "\n",
    "    TP = []\n",
    "    TN = []\n",
    "    FP = []\n",
    "    FN = []\n",
    "\n",
    "    #initialize\n",
    "\n",
    "    if ((prediction[0]==0) and (test.iloc[0]==0)):\n",
    "        TP.append((1))\n",
    "        TN.append(0)\n",
    "        FP.append(0)\n",
    "        FN.append(0)\n",
    "    if ((prediction[0]==0) and (test.iloc[0]==1)):\n",
    "        TP.append(0)\n",
    "        TN.append(0)\n",
    "        FP.append(0)\n",
    "        FN.append(1)\n",
    "    if ((prediction[0]==1) and (test.iloc[0]==0)):\n",
    "        TP.append(0)\n",
    "        TN.append(0)\n",
    "        FP.append(1)\n",
    "        FN.append(0)\n",
    "    if ((prediction[0]==1) and (test.iloc[0]==1)):\n",
    "        TP.append(0)\n",
    "        TN.append(1)\n",
    "        FP.append(0)\n",
    "        FN.append(0)\n",
    "\n",
    "    for k in range(1,n-1):\n",
    "        \n",
    "        if ((prediction[k]==0) and (test.iloc[k]==0)):\n",
    "            TP.append((TP[k-1]+1))\n",
    "            TN.append(TN[k-1]+0)\n",
    "            FP.append(FP[k-1]+0)\n",
    "            FN.append(FN[k-1]+0)\n",
    "\n",
    "        if ((prediction[k]==0) and (test.iloc[k]==1)):\n",
    "            TP.append((TP[k-1]+0))\n",
    "            TN.append(TN[k-1]+0)\n",
    "            FP.append(FP[k-1]+0)\n",
    "            FN.append(FN[k-1]+1)\n",
    "        if ((prediction[k]==1) and (test.iloc[k]==0)):\n",
    "            TP.append((TP[k-1]+0))\n",
    "            TN.append(TN[k-1]+0)\n",
    "            FP.append(FP[k-1]+1)\n",
    "            FN.append(FN[k-1]+0)\n",
    "        if ((prediction[k]==1) and (test.iloc[k]==1)):\n",
    "            TP.append((TP[k-1]+0))\n",
    "            TN.append(TN[k-1]+1)\n",
    "            FP.append(FP[k-1]+0)\n",
    "            FN.append(FN[k-1]+0)\n",
    "\n",
    "\n",
    "\n",
    "    TP = np.asarray(TP)\n",
    "    TN = np.asarray(TN)\n",
    "    FP = np.asarray(FP)\n",
    "    FN = np.asarray(FN)\n",
    "\n",
    "    TP = TP/TP[-1]\n",
    "    FP= FP/FP[-1]\n",
    "    \n",
    "    \n",
    "    plt.figure()\n",
    "    plt.title('ROC curve')\n",
    "    plt.xlabel(\"True positive rate\")\n",
    "    plt.ylabel(\"True positive rate\")\n",
    "    plt.plot(FP,TP)\n",
    "    \n",
    "    return None"
   ]
  },
  {
   "cell_type": "markdown",
   "metadata": {},
   "source": [
    "### First algorithm of KNeighbors with the unbalanced data"
   ]
  },
  {
   "cell_type": "code",
   "execution_count": 172,
   "metadata": {},
   "outputs": [
    {
     "name": "stdout",
     "output_type": "stream",
     "text": [
      "Accuracy with  1 neighbors  0.8504691689008043\n",
      "Accuracy with  2 neighbors  0.8798927613941019\n",
      "Accuracy with  3 neighbors  0.8758713136729223\n",
      "Accuracy with  4 neighbors  0.881367292225201\n",
      "Accuracy: 0.8814343163538874\n"
     ]
    },
    {
     "data": {
      "text/plain": [
       "array([[12699,   459],\n",
       "       [ 1310,   452]], dtype=int64)"
      ]
     },
     "execution_count": 172,
     "metadata": {},
     "output_type": "execute_result"
    }
   ],
   "source": [
    "### Kneighboor classifier\n",
    "\n",
    "#We can try to find the optimal number of neighbors because its is not very complex to compute and calculate\n",
    "\n",
    "for k in range(1,5):\n",
    "        \n",
    "    neigh = KNeighborsClassifier(n_neighbors=k, weights='uniform', algorithm='auto', p=2)\n",
    "    neigh.fit(X_train, y_train)\n",
    "\n",
    "    y_pred = neigh.predict(X_test)\n",
    "\n",
    "    print(\"Accuracy with \",k, \"neighbors \" ,metrics.accuracy_score(y_test, y_pred))\n",
    "\n",
    "### there is no need to change the value of k\n",
    "\n",
    "neigh = KNeighborsClassifier(n_neighbors=5, weights='uniform', algorithm='auto', p=2)\n",
    "neigh.fit(X_train, y_train)\n",
    "\n",
    "y_pred = neigh.predict(X_test)\n",
    "\n",
    "print(\"Accuracy:\",metrics.accuracy_score(y_test, y_pred))\n",
    "\n",
    "confusion_matrix(y_test,y_pred)\n"
   ]
  },
  {
   "cell_type": "code",
   "execution_count": 170,
   "metadata": {},
   "outputs": [
    {
     "data": {
      "text/plain": [
       "True"
      ]
     },
     "execution_count": 170,
     "metadata": {},
     "output_type": "execute_result"
    },
    {
     "data": {
      "image/png": "[encoded data removed]",
      "text/plain": [
       "<Figure size 432x288 with 1 Axes>"
      ]
     },
     "metadata": {},
     "output_type": "display_data"
    }
   ],
   "source": [
    "#We can plot the roc curve for k=5\n",
    "ROC(y_test, y_pred)"
   ]
  },
  {
   "cell_type": "code",
   "execution_count": null,
   "metadata": {},
   "outputs": [],
   "source": [
    "#the model is not good and if we look at the confusion matrix it makes too many mistakes"
   ]
  },
  {
   "cell_type": "markdown",
   "metadata": {},
   "source": [
    "### Kneigbors algorithm with the balance dataset"
   ]
  },
  {
   "cell_type": "code",
   "execution_count": 176,
   "metadata": {},
   "outputs": [
    {
     "name": "stdout",
     "output_type": "stream",
     "text": [
      "Accuracy: 0.7648238327126897\n"
     ]
    },
    {
     "data": {
      "text/plain": [
       "array([[1402,  352],\n",
       "       [ 469, 1268]], dtype=int64)"
      ]
     },
     "execution_count": 176,
     "metadata": {},
     "output_type": "execute_result"
    }
   ],
   "source": [
    "### Kneighboor classifier\n",
    "\n",
    "\n",
    "neigh = KNeighborsClassifier(n_neighbors=5, weights='uniform', algorithm='auto', p=2)\n",
    "neigh.fit(X_train1, y_train1)\n",
    "\n",
    "y_pred1 = neigh.predict(X_test1)\n",
    "\n",
    "print(\"Accuracy:\",metrics.accuracy_score(y_test1, y_pred1))\n",
    "\n",
    "confusion_matrix(y_test1,y_pred1)\n"
   ]
  },
  {
   "cell_type": "code",
   "execution_count": 185,
   "metadata": {},
   "outputs": [
    {
     "data": {
      "image/png": "[encoded data removed]",
      "text/plain": [
       "<Figure size 432x288 with 1 Axes>"
      ]
     },
     "metadata": {},
     "output_type": "display_data"
    }
   ],
   "source": [
    "#We can plot the roc curve for k=5\n",
    "ROC(y_test1, y_pred1)"
   ]
  },
  {
   "cell_type": "code",
   "execution_count": 186,
   "metadata": {},
   "outputs": [],
   "source": [
    "# The model is less accurate but it makes more sense "
   ]
  },
  {
   "cell_type": "markdown",
   "metadata": {},
   "source": [
    "### Decision tree classifier for unbalanced data"
   ]
  },
  {
   "cell_type": "code",
   "execution_count": 187,
   "metadata": {},
   "outputs": [
    {
     "name": "stdout",
     "output_type": "stream",
     "text": [
      "Accuracy : 0.8863941018766756\n"
     ]
    },
    {
     "data": {
      "text/plain": [
       "array([[12477,   681],\n",
       "       [ 1014,   748]], dtype=int64)"
      ]
     },
     "execution_count": 187,
     "metadata": {},
     "output_type": "execute_result"
    }
   ],
   "source": [
    "clf = DecisionTreeClassifier(criterion='gini', splitter='random', min_samples_split=20)\n",
    "clf.fit(X_train,y_train)\n",
    "y_pred = clf.predict(X_test)\n",
    "print(\"Accuracy :\",metrics.accuracy_score(y_test, y_pred))\n",
    "confusion_matrix(y_test, y_pred)\n"
   ]
  },
  {
   "cell_type": "code",
   "execution_count": 188,
   "metadata": {},
   "outputs": [
    {
     "data": {
      "image/png": "[encoded data removed]",
      "text/plain": [
       "<Figure size 432x288 with 1 Axes>"
      ]
     },
     "metadata": {},
     "output_type": "display_data"
    }
   ],
   "source": [
    "ROC(y_test, y_pred)"
   ]
  },
  {
   "cell_type": "markdown",
   "metadata": {},
   "source": [
    "### ### Decision tree classifier for balanced data"
   ]
  },
  {
   "cell_type": "code",
   "execution_count": 189,
   "metadata": {},
   "outputs": [
    {
     "name": "stdout",
     "output_type": "stream",
     "text": [
      "Accuracy : 0.7656831853337153\n"
     ]
    },
    {
     "data": {
      "text/plain": [
       "array([[1296,  458],\n",
       "       [ 360, 1377]], dtype=int64)"
      ]
     },
     "execution_count": 189,
     "metadata": {},
     "output_type": "execute_result"
    }
   ],
   "source": [
    "clf = DecisionTreeClassifier(criterion='gini', splitter='random', min_samples_split=20)\n",
    "clf.fit(X_train1,y_train1)\n",
    "y_predict1 = clf.predict(X_test1)\n",
    "print(\"Accuracy :\",metrics.accuracy_score(y_test1, y_predict1))\n",
    "confusion_matrix(y_test1, y_predict1)"
   ]
  },
  {
   "cell_type": "code",
   "execution_count": 190,
   "metadata": {},
   "outputs": [
    {
     "data": {
      "image/png": "[encoded data removed]",
      "text/plain": [
       "<Figure size 432x288 with 1 Axes>"
      ]
     },
     "metadata": {},
     "output_type": "display_data"
    }
   ],
   "source": [
    "ROC(y_test1,y_predict1)"
   ]
  },
  {
   "cell_type": "code",
   "execution_count": null,
   "metadata": {},
   "outputs": [],
   "source": []
  },
  {
   "cell_type": "code",
   "execution_count": null,
   "metadata": {},
   "outputs": [],
   "source": []
  },
  {
   "cell_type": "markdown",
   "metadata": {},
   "source": [
    "### Random forest with unbalanced data"
   ]
  },
  {
   "cell_type": "code",
   "execution_count": 191,
   "metadata": {},
   "outputs": [
    {
     "name": "stderr",
     "output_type": "stream",
     "text": [
      "D:\\Langage_Programation\\Anaconda3\\lib\\site-packages\\sklearn\\ensemble\\forest.py:245: FutureWarning: The default value of n_estimators will change from 10 in version 0.20 to 100 in 0.22.\n",
      "  \"10 in version 0.20 to 100 in 0.22.\", FutureWarning)\n"
     ]
    },
    {
     "name": "stdout",
     "output_type": "stream",
     "text": [
      "Accuracy : 0.893632707774799\n"
     ]
    },
    {
     "data": {
      "text/plain": [
       "array([[12794,   364],\n",
       "       [ 1223,   539]], dtype=int64)"
      ]
     },
     "execution_count": 191,
     "metadata": {},
     "output_type": "execute_result"
    }
   ],
   "source": [
    "clf = RandomForestClassifier(max_depth=30, random_state=0)\n",
    "clf.fit(X_train,y_train)\n",
    "y_pred=clf.predict(X_test)\n",
    "print(\"Accuracy :\",metrics.accuracy_score(y_test, y_pred))\n",
    "confusion_matrix(y_test, y_pred)"
   ]
  },
  {
   "cell_type": "code",
   "execution_count": 194,
   "metadata": {},
   "outputs": [
    {
     "data": {
      "image/png": "[encoded data removed]",
      "text/plain": [
       "<Figure size 432x288 with 1 Axes>"
      ]
     },
     "metadata": {},
     "output_type": "display_data"
    }
   ],
   "source": [
    "ROC(y_test, y_pred)"
   ]
  },
  {
   "cell_type": "markdown",
   "metadata": {},
   "source": []
  },
  {
   "cell_type": "markdown",
   "metadata": {},
   "source": [
    "### Random forest with balanced data"
   ]
  },
  {
   "cell_type": "code",
   "execution_count": 192,
   "metadata": {},
   "outputs": [
    {
     "name": "stdout",
     "output_type": "stream",
     "text": [
      "Accuracy  4  : 0.8112288742480664\n"
     ]
    },
    {
     "name": "stderr",
     "output_type": "stream",
     "text": [
      "D:\\Langage_Programation\\Anaconda3\\lib\\site-packages\\sklearn\\ensemble\\forest.py:245: FutureWarning: The default value of n_estimators will change from 10 in version 0.20 to 100 in 0.22.\n",
      "  \"10 in version 0.20 to 100 in 0.22.\", FutureWarning)\n"
     ]
    },
    {
     "data": {
      "text/plain": [
       "array([[1432,  322],\n",
       "       [ 337, 1400]], dtype=int64)"
      ]
     },
     "execution_count": 192,
     "metadata": {},
     "output_type": "execute_result"
    }
   ],
   "source": [
    "clf = RandomForestClassifier(max_depth=30, random_state=0)\n",
    "clf.fit(X_train1,y_train1)\n",
    "y_predict1=clf.predict(X_test1)\n",
    "print(\"Accuracy \",k, \" :\",metrics.accuracy_score(y_test1, y_predict1))\n",
    "confusion_matrix(y_test1, y_predict1)"
   ]
  },
  {
   "cell_type": "code",
   "execution_count": 193,
   "metadata": {},
   "outputs": [
    {
     "data": {
      "image/png": "[encoded data removed]",
      "text/plain": [
       "<Figure size 432x288 with 1 Axes>"
      ]
     },
     "metadata": {},
     "output_type": "display_data"
    }
   ],
   "source": [
    "ROC(y_test1,y_predict1)"
   ]
  },
  {
   "cell_type": "code",
   "execution_count": null,
   "metadata": {},
   "outputs": [],
   "source": []
  },
  {
   "cell_type": "markdown",
   "metadata": {},
   "source": [
    "### Bayes classifier"
   ]
  },
  {
   "cell_type": "code",
   "execution_count": 196,
   "metadata": {},
   "outputs": [
    {
     "name": "stdout",
     "output_type": "stream",
     "text": [
      "Accuracy: 0.864745308310992\n"
     ]
    }
   ],
   "source": [
    "gnb = GaussianNB()\n",
    "gnb.fit(X_train, y_train)\n",
    "y_pred = gnb.predict(X_test)\n",
    "\n",
    "print(\"Accuracy:\",metrics.accuracy_score(y_test, y_pred))"
   ]
  },
  {
   "cell_type": "code",
   "execution_count": 197,
   "metadata": {},
   "outputs": [
    {
     "data": {
      "image/png": "[encoded data removed]",
      "text/plain": [
       "<Figure size 432x288 with 1 Axes>"
      ]
     },
     "metadata": {},
     "output_type": "display_data"
    }
   ],
   "source": [
    "ROC(y_test, y_pred)"
   ]
  },
  {
   "cell_type": "code",
   "execution_count": 198,
   "metadata": {},
   "outputs": [
    {
     "name": "stdout",
     "output_type": "stream",
     "text": [
      "Accuracy: 0.7648238327126897\n"
     ]
    }
   ],
   "source": [
    "gnb = GaussianNB()\n",
    "gnb.fit(X_train1, y_train1)\n",
    "y_pred = gnb.predict(X_test1)\n",
    "\n",
    "print(\"Accuracy:\",metrics.accuracy_score(y_test1, y_pred1))"
   ]
  },
  {
   "cell_type": "code",
   "execution_count": null,
   "metadata": {},
   "outputs": [],
   "source": []
  },
  {
   "cell_type": "code",
   "execution_count": null,
   "metadata": {},
   "outputs": [],
   "source": []
  },
  {
   "cell_type": "code",
   "execution_count": null,
   "metadata": {},
   "outputs": [],
   "source": []
  },
  {
   "cell_type": "code",
   "execution_count": null,
   "metadata": {},
   "outputs": [],
   "source": []
  },
  {
   "cell_type": "markdown",
   "metadata": {},
   "source": [
    "### KNN"
   ]
  },
  {
   "cell_type": "code",
   "execution_count": 199,
   "metadata": {},
   "outputs": [
    {
     "name": "stdout",
     "output_type": "stream",
     "text": [
      "Accuracy: 0.5040214477211796\n"
     ]
    }
   ],
   "source": [
    "clf = MLPClassifier(solver='lbfgs', alpha=1e-5, hidden_layer_sizes=(80,), random_state=1)\n",
    "clf.fit(X_train,y_train)\n",
    "y_predict1 = clf.predict(X_test)\n",
    "print(\"Accuracy:\",metrics.accuracy_score(y_test, y_predict1))\n"
   ]
  },
  {
   "cell_type": "code",
   "execution_count": null,
   "metadata": {},
   "outputs": [],
   "source": []
  },
  {
   "cell_type": "markdown",
   "metadata": {},
   "source": [
    "### SVM"
   ]
  },
  {
   "cell_type": "code",
   "execution_count": null,
   "metadata": {},
   "outputs": [],
   "source": []
  },
  {
   "cell_type": "code",
   "execution_count": null,
   "metadata": {},
   "outputs": [],
   "source": []
  },
  {
   "cell_type": "code",
   "execution_count": null,
   "metadata": {},
   "outputs": [],
   "source": []
  }
 ],
 "metadata": {
  "kernelspec": {
   "display_name": "Python 3",
   "language": "python",
   "name": "python3"
  },
  "language_info": {
   "codemirror_mode": {
    "name": "ipython",
    "version": 3
   },
   "file_extension": ".py",
   "mimetype": "text/x-python",
   "name": "python",
   "nbconvert_exporter": "python",
   "pygments_lexer": "ipython3",
   "version": "3.7.1"
  }
 },
 "nbformat": 4,
 "nbformat_minor": 2
}
