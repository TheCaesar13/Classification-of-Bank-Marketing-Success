{
 "cells": [
  {
   "cell_type": "code",
   "execution_count": 99,
   "metadata": {},
   "outputs": [],
   "source": [
    "import pandas as pd\n",
    "import numpy as np\n",
    "import matplotlib.pyplot as plt\n",
    "import seaborn as sns\n",
    "from sklearn.tree import DecisionTreeClassifier, plot_tree\n",
    "from sklearn import preprocessing\n",
    "from sklearn.model_selection import train_test_split\n",
    "\n",
    "from sklearn import metrics \n",
    "from sklearn.metrics import confusion_matrix\n",
    "from sklearn.naive_bayes import GaussianNB\n",
    "from sklearn.neighbors import KNeighborsClassifier\n",
    "from sklearn.neural_network import MLPClassifier\n",
    "from sklearn import svm\n",
    "from sklearn.datasets import make_classification\n",
    "from sklearn.multiclass import OneVsRestClassifier\n",
    "from sklearn.ensemble import RandomForestClassifier\n",
    "\n",
    "\n"
   ]
  },
  {
   "cell_type": "code",
   "execution_count": 2,
   "metadata": {},
   "outputs": [
    {
     "data": {
      "text/html": [
       "<div>\n",
       "<style scoped>\n",
       "    .dataframe tbody tr th:only-of-type {\n",
       "        vertical-align: middle;\n",
       "    }\n",
       "\n",
       "    .dataframe tbody tr th {\n",
       "        vertical-align: top;\n",
       "    }\n",
       "\n",
       "    .dataframe thead th {\n",
       "        text-align: right;\n",
       "    }\n",
       "</style>\n",
       "<table border=\"1\" class=\"dataframe\">\n",
       "  <thead>\n",
       "    <tr style=\"text-align: right;\">\n",
       "      <th></th>\n",
       "      <th>age</th>\n",
       "      <th>job</th>\n",
       "      <th>marital</th>\n",
       "      <th>education</th>\n",
       "      <th>default</th>\n",
       "      <th>balance</th>\n",
       "      <th>housing</th>\n",
       "      <th>loan</th>\n",
       "      <th>contact</th>\n",
       "      <th>day</th>\n",
       "      <th>month</th>\n",
       "      <th>duration</th>\n",
       "      <th>campaign</th>\n",
       "      <th>pdays</th>\n",
       "      <th>previous</th>\n",
       "      <th>poutcome</th>\n",
       "      <th>y</th>\n",
       "    </tr>\n",
       "  </thead>\n",
       "  <tbody>\n",
       "    <tr>\n",
       "      <th>0</th>\n",
       "      <td>58</td>\n",
       "      <td>management</td>\n",
       "      <td>married</td>\n",
       "      <td>tertiary</td>\n",
       "      <td>no</td>\n",
       "      <td>2143</td>\n",
       "      <td>yes</td>\n",
       "      <td>no</td>\n",
       "      <td>unknown</td>\n",
       "      <td>5</td>\n",
       "      <td>may</td>\n",
       "      <td>261</td>\n",
       "      <td>1</td>\n",
       "      <td>-1</td>\n",
       "      <td>0</td>\n",
       "      <td>unknown</td>\n",
       "      <td>no</td>\n",
       "    </tr>\n",
       "    <tr>\n",
       "      <th>1</th>\n",
       "      <td>44</td>\n",
       "      <td>technician</td>\n",
       "      <td>single</td>\n",
       "      <td>secondary</td>\n",
       "      <td>no</td>\n",
       "      <td>29</td>\n",
       "      <td>yes</td>\n",
       "      <td>no</td>\n",
       "      <td>unknown</td>\n",
       "      <td>5</td>\n",
       "      <td>may</td>\n",
       "      <td>151</td>\n",
       "      <td>1</td>\n",
       "      <td>-1</td>\n",
       "      <td>0</td>\n",
       "      <td>unknown</td>\n",
       "      <td>no</td>\n",
       "    </tr>\n",
       "    <tr>\n",
       "      <th>2</th>\n",
       "      <td>33</td>\n",
       "      <td>entrepreneur</td>\n",
       "      <td>married</td>\n",
       "      <td>secondary</td>\n",
       "      <td>no</td>\n",
       "      <td>2</td>\n",
       "      <td>yes</td>\n",
       "      <td>yes</td>\n",
       "      <td>unknown</td>\n",
       "      <td>5</td>\n",
       "      <td>may</td>\n",
       "      <td>76</td>\n",
       "      <td>1</td>\n",
       "      <td>-1</td>\n",
       "      <td>0</td>\n",
       "      <td>unknown</td>\n",
       "      <td>no</td>\n",
       "    </tr>\n",
       "    <tr>\n",
       "      <th>3</th>\n",
       "      <td>47</td>\n",
       "      <td>blue-collar</td>\n",
       "      <td>married</td>\n",
       "      <td>unknown</td>\n",
       "      <td>no</td>\n",
       "      <td>1506</td>\n",
       "      <td>yes</td>\n",
       "      <td>no</td>\n",
       "      <td>unknown</td>\n",
       "      <td>5</td>\n",
       "      <td>may</td>\n",
       "      <td>92</td>\n",
       "      <td>1</td>\n",
       "      <td>-1</td>\n",
       "      <td>0</td>\n",
       "      <td>unknown</td>\n",
       "      <td>no</td>\n",
       "    </tr>\n",
       "    <tr>\n",
       "      <th>4</th>\n",
       "      <td>33</td>\n",
       "      <td>unknown</td>\n",
       "      <td>single</td>\n",
       "      <td>unknown</td>\n",
       "      <td>no</td>\n",
       "      <td>1</td>\n",
       "      <td>no</td>\n",
       "      <td>no</td>\n",
       "      <td>unknown</td>\n",
       "      <td>5</td>\n",
       "      <td>may</td>\n",
       "      <td>198</td>\n",
       "      <td>1</td>\n",
       "      <td>-1</td>\n",
       "      <td>0</td>\n",
       "      <td>unknown</td>\n",
       "      <td>no</td>\n",
       "    </tr>\n",
       "  </tbody>\n",
       "</table>\n",
       "</div>"
      ],
      "text/plain": [
       "   age           job  marital  education default  balance housing loan  \\\n",
       "0   58    management  married   tertiary      no     2143     yes   no   \n",
       "1   44    technician   single  secondary      no       29     yes   no   \n",
       "2   33  entrepreneur  married  secondary      no        2     yes  yes   \n",
       "3   47   blue-collar  married    unknown      no     1506     yes   no   \n",
       "4   33       unknown   single    unknown      no        1      no   no   \n",
       "\n",
       "   contact  day month  duration  campaign  pdays  previous poutcome   y  \n",
       "0  unknown    5   may       261         1     -1         0  unknown  no  \n",
       "1  unknown    5   may       151         1     -1         0  unknown  no  \n",
       "2  unknown    5   may        76         1     -1         0  unknown  no  \n",
       "3  unknown    5   may        92         1     -1         0  unknown  no  \n",
       "4  unknown    5   may       198         1     -1         0  unknown  no  "
      ]
     },
     "execution_count": 2,
     "metadata": {},
     "output_type": "execute_result"
    }
   ],
   "source": [
    "#loading the dataset\n",
    "original_data = pd.read_csv(\"bank-full.csv\", sep=\";\")\n",
    "original_data.head()"
   ]
  },
  {
   "cell_type": "code",
   "execution_count": 3,
   "metadata": {},
   "outputs": [],
   "source": [
    "                               ####### Statistical Exploration ########"
   ]
  },
  {
   "cell_type": "code",
   "execution_count": 4,
   "metadata": {},
   "outputs": [
    {
     "name": "stdout",
     "output_type": "stream",
     "text": [
      "<class 'pandas.core.frame.DataFrame'>\n",
      "RangeIndex: 45211 entries, 0 to 45210\n",
      "Data columns (total 17 columns):\n",
      "age          45211 non-null int64\n",
      "job          45211 non-null object\n",
      "marital      45211 non-null object\n",
      "education    45211 non-null object\n",
      "default      45211 non-null object\n",
      "balance      45211 non-null int64\n",
      "housing      45211 non-null object\n",
      "loan         45211 non-null object\n",
      "contact      45211 non-null object\n",
      "day          45211 non-null int64\n",
      "month        45211 non-null object\n",
      "duration     45211 non-null int64\n",
      "campaign     45211 non-null int64\n",
      "pdays        45211 non-null int64\n",
      "previous     45211 non-null int64\n",
      "poutcome     45211 non-null object\n",
      "y            45211 non-null object\n",
      "dtypes: int64(7), object(10)\n",
      "memory usage: 5.9+ MB\n"
     ]
    }
   ],
   "source": [
    "original_data.info()"
   ]
  },
  {
   "cell_type": "code",
   "execution_count": 5,
   "metadata": {},
   "outputs": [
    {
     "data": {
      "text/html": [
       "<div>\n",
       "<style scoped>\n",
       "    .dataframe tbody tr th:only-of-type {\n",
       "        vertical-align: middle;\n",
       "    }\n",
       "\n",
       "    .dataframe tbody tr th {\n",
       "        vertical-align: top;\n",
       "    }\n",
       "\n",
       "    .dataframe thead th {\n",
       "        text-align: right;\n",
       "    }\n",
       "</style>\n",
       "<table border=\"1\" class=\"dataframe\">\n",
       "  <thead>\n",
       "    <tr style=\"text-align: right;\">\n",
       "      <th></th>\n",
       "      <th>age</th>\n",
       "      <th>balance</th>\n",
       "      <th>day</th>\n",
       "      <th>duration</th>\n",
       "      <th>campaign</th>\n",
       "      <th>pdays</th>\n",
       "      <th>previous</th>\n",
       "    </tr>\n",
       "  </thead>\n",
       "  <tbody>\n",
       "    <tr>\n",
       "      <th>count</th>\n",
       "      <td>45211.000000</td>\n",
       "      <td>45211.000000</td>\n",
       "      <td>45211.000000</td>\n",
       "      <td>45211.000000</td>\n",
       "      <td>45211.000000</td>\n",
       "      <td>45211.000000</td>\n",
       "      <td>45211.000000</td>\n",
       "    </tr>\n",
       "    <tr>\n",
       "      <th>mean</th>\n",
       "      <td>40.936210</td>\n",
       "      <td>1362.272058</td>\n",
       "      <td>15.806419</td>\n",
       "      <td>258.163080</td>\n",
       "      <td>2.763841</td>\n",
       "      <td>40.197828</td>\n",
       "      <td>0.580323</td>\n",
       "    </tr>\n",
       "    <tr>\n",
       "      <th>std</th>\n",
       "      <td>10.618762</td>\n",
       "      <td>3044.765829</td>\n",
       "      <td>8.322476</td>\n",
       "      <td>257.527812</td>\n",
       "      <td>3.098021</td>\n",
       "      <td>100.128746</td>\n",
       "      <td>2.303441</td>\n",
       "    </tr>\n",
       "    <tr>\n",
       "      <th>min</th>\n",
       "      <td>18.000000</td>\n",
       "      <td>-8019.000000</td>\n",
       "      <td>1.000000</td>\n",
       "      <td>0.000000</td>\n",
       "      <td>1.000000</td>\n",
       "      <td>-1.000000</td>\n",
       "      <td>0.000000</td>\n",
       "    </tr>\n",
       "    <tr>\n",
       "      <th>25%</th>\n",
       "      <td>33.000000</td>\n",
       "      <td>72.000000</td>\n",
       "      <td>8.000000</td>\n",
       "      <td>103.000000</td>\n",
       "      <td>1.000000</td>\n",
       "      <td>-1.000000</td>\n",
       "      <td>0.000000</td>\n",
       "    </tr>\n",
       "    <tr>\n",
       "      <th>50%</th>\n",
       "      <td>39.000000</td>\n",
       "      <td>448.000000</td>\n",
       "      <td>16.000000</td>\n",
       "      <td>180.000000</td>\n",
       "      <td>2.000000</td>\n",
       "      <td>-1.000000</td>\n",
       "      <td>0.000000</td>\n",
       "    </tr>\n",
       "    <tr>\n",
       "      <th>75%</th>\n",
       "      <td>48.000000</td>\n",
       "      <td>1428.000000</td>\n",
       "      <td>21.000000</td>\n",
       "      <td>319.000000</td>\n",
       "      <td>3.000000</td>\n",
       "      <td>-1.000000</td>\n",
       "      <td>0.000000</td>\n",
       "    </tr>\n",
       "    <tr>\n",
       "      <th>max</th>\n",
       "      <td>95.000000</td>\n",
       "      <td>102127.000000</td>\n",
       "      <td>31.000000</td>\n",
       "      <td>4918.000000</td>\n",
       "      <td>63.000000</td>\n",
       "      <td>871.000000</td>\n",
       "      <td>275.000000</td>\n",
       "    </tr>\n",
       "  </tbody>\n",
       "</table>\n",
       "</div>"
      ],
      "text/plain": [
       "                age        balance           day      duration      campaign  \\\n",
       "count  45211.000000   45211.000000  45211.000000  45211.000000  45211.000000   \n",
       "mean      40.936210    1362.272058     15.806419    258.163080      2.763841   \n",
       "std       10.618762    3044.765829      8.322476    257.527812      3.098021   \n",
       "min       18.000000   -8019.000000      1.000000      0.000000      1.000000   \n",
       "25%       33.000000      72.000000      8.000000    103.000000      1.000000   \n",
       "50%       39.000000     448.000000     16.000000    180.000000      2.000000   \n",
       "75%       48.000000    1428.000000     21.000000    319.000000      3.000000   \n",
       "max       95.000000  102127.000000     31.000000   4918.000000     63.000000   \n",
       "\n",
       "              pdays      previous  \n",
       "count  45211.000000  45211.000000  \n",
       "mean      40.197828      0.580323  \n",
       "std      100.128746      2.303441  \n",
       "min       -1.000000      0.000000  \n",
       "25%       -1.000000      0.000000  \n",
       "50%       -1.000000      0.000000  \n",
       "75%       -1.000000      0.000000  \n",
       "max      871.000000    275.000000  "
      ]
     },
     "execution_count": 5,
     "metadata": {},
     "output_type": "execute_result"
    }
   ],
   "source": [
    "original_data.describe()\n",
    "# We observe some extreme maximum values and high standard deviation values\n",
    "# which will be further investigated"
   ]
  },
  {
   "cell_type": "code",
   "execution_count": 6,
   "metadata": {},
   "outputs": [
    {
     "data": {
      "text/plain": [
       "0"
      ]
     },
     "execution_count": 6,
     "metadata": {},
     "output_type": "execute_result"
    }
   ],
   "source": [
    "#Check for duplicates\n",
    "original_data.duplicated().sum()"
   ]
  },
  {
   "cell_type": "code",
   "execution_count": 7,
   "metadata": {},
   "outputs": [
    {
     "name": "stdout",
     "output_type": "stream",
     "text": [
      "age          0\n",
      "job          0\n",
      "marital      0\n",
      "education    0\n",
      "default      0\n",
      "balance      0\n",
      "housing      0\n",
      "loan         0\n",
      "contact      0\n",
      "day          0\n",
      "month        0\n",
      "duration     0\n",
      "campaign     0\n",
      "pdays        0\n",
      "previous     0\n",
      "poutcome     0\n",
      "y            0\n",
      "dtype: int64\n"
     ]
    }
   ],
   "source": [
    "#check for missing values\n",
    "print(original_data.isnull().sum())"
   ]
  },
  {
   "cell_type": "code",
   "execution_count": 8,
   "metadata": {},
   "outputs": [
    {
     "name": "stdout",
     "output_type": "stream",
     "text": [
      "\n",
      "Jobs:  ['management' 'technician' 'entrepreneur' 'blue-collar' 'unknown'\n",
      " 'retired' 'admin.' 'services' 'self-employed' 'unemployed' 'housemaid'\n",
      " 'student']\n",
      "\n",
      "Marital status:  ['married' 'single' 'divorced']\n",
      "\n",
      "Education:  ['tertiary' 'secondary' 'unknown' 'primary']\n",
      "\n",
      "Credit in default:  ['no' 'yes']\n",
      "\n",
      "Housing loan:  ['yes' 'no']\n",
      "\n",
      "Personal loan:  ['no' 'yes']\n",
      "\n",
      "Contact channel:  ['unknown' 'cellular' 'telephone']\n",
      "\n",
      "Month:  ['may' 'jun' 'jul' 'aug' 'oct' 'nov' 'dec' 'jan' 'feb' 'mar' 'apr' 'sep']\n",
      "\n",
      "Previous campaign outcome:  ['unknown' 'failure' 'other' 'success']\n"
     ]
    }
   ],
   "source": [
    "# Looking through the data points alternativelly marked as missing values\n",
    "print('\\nJobs: ', original_data.job.unique())\n",
    "print('\\nMarital status: ', original_data.marital.unique())\n",
    "print('\\nEducation: ', original_data.education.unique())\n",
    "print('\\nCredit in default: ', original_data.default.unique())\n",
    "print('\\nHousing loan: ', original_data.housing.unique())\n",
    "print('\\nPersonal loan: ', original_data.loan.unique())\n",
    "print('\\nContact channel: ', original_data.contact.unique())\n",
    "print('\\nMonth: ', original_data.month.unique())\n",
    "print('\\nPrevious campaign outcome: ', original_data.poutcome.unique())"
   ]
  },
  {
   "cell_type": "code",
   "execution_count": 9,
   "metadata": {},
   "outputs": [
    {
     "name": "stdout",
     "output_type": "stream",
     "text": [
      "\n",
      "Unknown values in job:  288\n",
      "\n",
      "Unknown values in education:  1857\n",
      "\n",
      "Unknown values in contact:  13020\n",
      "\n",
      "Unknown values in poutcome:  36959\n"
     ]
    }
   ],
   "source": [
    "# Potential missing values\n",
    "print('\\nUnknown values in job: ', (original_data.job == 'unknown').sum())\n",
    "print('\\nUnknown values in education: ', (original_data.education == 'unknown').sum())\n",
    "print('\\nUnknown values in contact: ', (original_data.contact == 'unknown').sum())\n",
    "print('\\nUnknown values in poutcome: ', (original_data.poutcome == 'unknown').sum())"
   ]
  },
  {
   "cell_type": "code",
   "execution_count": 10,
   "metadata": {},
   "outputs": [],
   "source": [
    "# Dealing with potential missing values\n"
   ]
  },
  {
   "cell_type": "code",
   "execution_count": 11,
   "metadata": {},
   "outputs": [
    {
     "name": "stdout",
     "output_type": "stream",
     "text": [
      "\n",
      "Good data!\n",
      "\n",
      "Good data!\n",
      "\n",
      "Good data!\n",
      "\n",
      "Good data!\n",
      "\n",
      "Good data!\n",
      "\n",
      "Good data!\n"
     ]
    }
   ],
   "source": [
    "# Ensuring there no unnatural values\n",
    "if(original_data.age.any() < 0 or original_data.age.any() > 100):\n",
    "    print('\\nLikely Impossible!')\n",
    "else:\n",
    "    print('\\nGood data!')\n",
    "if(original_data.day.any() < 1 or original_data.age.any() > 31):\n",
    "    print('\\nLikely Impossible!')\n",
    "else:\n",
    "    print('\\nGood data!')\n",
    "if(original_data.duration.any() <= 0):\n",
    "    print('\\nLikely Impossible!')\n",
    "else:\n",
    "    print('\\nGood data!')\n",
    "if(original_data.campaign.any() <= 0):\n",
    "    print('\\nLikely Impossible!')\n",
    "else:\n",
    "    print('\\nGood data!')\n",
    "if(original_data.previous.any() <= 0):\n",
    "    print('\\nLikely Impossible!')\n",
    "else:\n",
    "    print('\\nGood data!')\n",
    "if(original_data.pdays.any() < 0 and original_data.pdays.any() != -1):\n",
    "    print('\\nLikely Impossible!')\n",
    "else:\n",
    "    print('\\nGood data!')"
   ]
  },
  {
   "cell_type": "code",
   "execution_count": 12,
   "metadata": {},
   "outputs": [],
   "source": [
    "                                  ####### Data Visualization ########"
   ]
  },
  {
   "cell_type": "code",
   "execution_count": 13,
   "metadata": {},
   "outputs": [
    {
     "data": {
      "text/plain": [
       "Text(0.5,0,'Age')"
      ]
     },
     "execution_count": 13,
     "metadata": {},
     "output_type": "execute_result"
    },
    {
     "data": {
      "image/png": "[encoded data removed]",
      "text/plain": [
       "<Figure size 432x288 with 1 Axes>"
      ]
     },
     "metadata": {},
     "output_type": "display_data"
    }
   ],
   "source": [
    "# Count plot of 'age' feature\n",
    "sns.set(style = 'darkgrid')\n",
    "ax = sns.distplot(original_data.age, kde = False, color = '#FF3A03')\n",
    "ax.set_title('Age Values Count', color = '#0E189C')\n",
    "ax.set_ylabel('Frequency', color= '#0E189C')\n",
    "ax.set_xlabel('Age', color = '#0E189C')"
   ]
  },
  {
   "cell_type": "code",
   "execution_count": 14,
   "metadata": {},
   "outputs": [
    {
     "name": "stdout",
     "output_type": "stream",
     "text": [
      "7168\n"
     ]
    },
    {
     "data": {
      "text/plain": [
       "Text(0.5,0,'Balance($)')"
      ]
     },
     "execution_count": 14,
     "metadata": {},
     "output_type": "execute_result"
    },
    {
     "data": {
      "image/png": "[encoded data removed]",
      "text/plain": [
       "<Figure size 432x288 with 1 Axes>"
      ]
     },
     "metadata": {},
     "output_type": "display_data"
    }
   ],
   "source": [
    "# Count plot of 'balance' feature\n",
    "# Find how many data points are, to know how many bins to create\n",
    "balance_array = original_data.balance.unique()\n",
    "print(len(balance_array))\n",
    "# Plot histogram\n",
    "sns.set()\n",
    "ax1 = sns.distplot(original_data.balance, bins = 84, kde = False, color = '#FF3A03')\n",
    "ax1.set_title('Balance Values Count', color = '#0E189C')\n",
    "ax1.set_ylabel('Frequency', color = '#0E189C')\n",
    "ax1.set_xlabel('Balance($)', color = '#0E189C')"
   ]
  },
  {
   "cell_type": "code",
   "execution_count": 15,
   "metadata": {},
   "outputs": [
    {
     "name": "stdout",
     "output_type": "stream",
     "text": [
      "6988\n"
     ]
    },
    {
     "data": {
      "text/plain": [
       "Text(0.5,0,'Balance($)')"
      ]
     },
     "execution_count": 15,
     "metadata": {},
     "output_type": "execute_result"
    },
    {
     "data": {
      "image/png": "[encoded data removed]",
      "text/plain": [
       "<Figure size 432x288 with 1 Axes>"
      ]
     },
     "metadata": {},
     "output_type": "display_data"
    }
   ],
   "source": [
    "# Outliers in balance\n",
    "copy_2 = original_data\n",
    "copy_1 = copy_2\n",
    "copy_1.balance = copy_1.balance.where(copy_1.balance < 20000, other = 20000)\n",
    "copy_1.balance = copy_1.balance.where(copy_1.balance > -2000, other = -2000)\n",
    "balance_array = copy_1.balance.unique()\n",
    "print(len(balance_array))\n",
    "sns.set()\n",
    "ax = sns.distplot(copy_1.balance, bins = 84, kde = False, color = '#FF3A03')\n",
    "ax.set_title('Balance Values Count', color = '#0E189C')\n",
    "ax.set_ylabel('Frequency', color = '#0E189C')\n",
    "ax.set_xlabel('Balance($)', color = '#0E189C')"
   ]
  },
  {
   "cell_type": "code",
   "execution_count": 16,
   "metadata": {},
   "outputs": [
    {
     "data": {
      "text/plain": [
       "Text(0.5,0,'Balance($)')"
      ]
     },
     "execution_count": 16,
     "metadata": {},
     "output_type": "execute_result"
    },
    {
     "data": {
      "image/png": "[encoded data removed]",
      "text/plain": [
       "<Figure size 432x288 with 1 Axes>"
      ]
     },
     "metadata": {},
     "output_type": "display_data"
    }
   ],
   "source": [
    "sns.set()\n",
    "ax = sns.boxplot(copy_1.balance, color = '#FF3A03')\n",
    "ax.set_title('Balance Values Count', color = '#0E189C')\n",
    "ax.set_ylabel('Frequency', color = '#0E189C')\n",
    "ax.set_xlabel('Balance($)', color = '#0E189C')"
   ]
  },
  {
   "cell_type": "code",
   "execution_count": 17,
   "metadata": {},
   "outputs": [
    {
     "name": "stdout",
     "output_type": "stream",
     "text": [
      "1573\n"
     ]
    },
    {
     "data": {
      "text/plain": [
       "Text(0.5,0,'Duration(s)')"
      ]
     },
     "execution_count": 17,
     "metadata": {},
     "output_type": "execute_result"
    },
    {
     "data": {
      "image/png": "[encoded data removed]",
      "text/plain": [
       "<Figure size 432x288 with 1 Axes>"
      ]
     },
     "metadata": {},
     "output_type": "display_data"
    }
   ],
   "source": [
    "# Count plot of 'duration' feature\n",
    "# Find how many data points are, to know how many bins to create\n",
    "duration_array = original_data.duration.unique()\n",
    "print(len(duration_array))\n",
    "# Plot histogram\n",
    "sns.set(style = 'darkgrid')\n",
    "ax = sns.distplot(original_data.duration, bins = 40, kde = False, color = '#FF3A03')\n",
    "ax.set_title('Durations Count', color = '#0E189C')\n",
    "ax.set_ylabel('Frequency', color= '#0E189C')\n",
    "ax.set_xlabel('Duration(s)', color = '#0E189C')"
   ]
  },
  {
   "cell_type": "code",
   "execution_count": 18,
   "metadata": {},
   "outputs": [
    {
     "name": "stdout",
     "output_type": "stream",
     "text": [
      "1517\n"
     ]
    },
    {
     "data": {
      "text/plain": [
       "Text(0.5,0,'Duration(s)')"
      ]
     },
     "execution_count": 18,
     "metadata": {},
     "output_type": "execute_result"
    },
    {
     "data": {
      "image/png": "[encoded data removed]",
      "text/plain": [
       "<Figure size 432x288 with 1 Axes>"
      ]
     },
     "metadata": {},
     "output_type": "display_data"
    }
   ],
   "source": [
    "# Outliers in duration\n",
    "copy_2 = original_data\n",
    "copy_1 = copy_2\n",
    "copy_1.duration = copy_1.duration.where(copy_1.duration < 2000, other = 2000)\n",
    "balance_array = copy_1.duration.unique()\n",
    "print(len(balance_array))\n",
    "sns.set()\n",
    "ax = sns.distplot(copy_1.duration, bins = 40, kde = False, color = '#FF3A03')\n",
    "ax.set_title('Duration Values Count', color = '#0E189C')\n",
    "ax.set_ylabel('Frequency', color = '#0E189C')\n",
    "ax.set_xlabel('Duration(s)', color = '#0E189C')"
   ]
  },
  {
   "cell_type": "code",
   "execution_count": 19,
   "metadata": {},
   "outputs": [
    {
     "data": {
      "text/plain": [
       "Text(0.5,0,'Duration(s)')"
      ]
     },
     "execution_count": 19,
     "metadata": {},
     "output_type": "execute_result"
    },
    {
     "data": {
      "image/png": "[encoded data removed]",
      "text/plain": [
       "<Figure size 432x288 with 1 Axes>"
      ]
     },
     "metadata": {},
     "output_type": "display_data"
    }
   ],
   "source": [
    "sns.set()\n",
    "ax = sns.boxplot(copy_1.duration, color = '#FF3A03')\n",
    "ax.set_title('Duration percentiles', color = '#0E189C')\n",
    "ax.set_ylabel('Frequency', color = '#0E189C')\n",
    "ax.set_xlabel('Duration(s)', color = '#0E189C')"
   ]
  },
  {
   "cell_type": "code",
   "execution_count": 20,
   "metadata": {},
   "outputs": [
    {
     "data": {
      "text/plain": [
       "Text(0.5,0,'campaign')"
      ]
     },
     "execution_count": 20,
     "metadata": {},
     "output_type": "execute_result"
    },
    {
     "data": {
      "image/png": "[encoded data removed]",
      "text/plain": [
       "<Figure size 432x288 with 1 Axes>"
      ]
     },
     "metadata": {},
     "output_type": "display_data"
    }
   ],
   "source": [
    "sns.set()\n",
    "ax = sns.boxplot(copy_1.campaign, color = '#FF3A03')\n",
    "ax.set_title('Campaign Values Count', color = '#0E189C')\n",
    "ax.set_ylabel('Frequency', color = '#0E189C')\n",
    "ax.set_xlabel('campaign', color = '#0E189C')"
   ]
  },
  {
   "cell_type": "code",
   "execution_count": 21,
   "metadata": {},
   "outputs": [
    {
     "data": {
      "text/plain": [
       "Text(0.5,0,'Previous')"
      ]
     },
     "execution_count": 21,
     "metadata": {},
     "output_type": "execute_result"
    },
    {
     "data": {
      "image/png": "[encoded data removed]",
      "text/plain": [
       "<Figure size 432x288 with 1 Axes>"
      ]
     },
     "metadata": {},
     "output_type": "display_data"
    }
   ],
   "source": [
    "copy_1.previous = copy_1.previous.where(copy_1.previous < 50, other = 50)\n",
    "sns.set()\n",
    "ax = sns.boxplot(copy_1.previous, color = '#FF3A03')\n",
    "ax.set_title('Previous Values Count', color = '#0E189C')\n",
    "ax.set_ylabel('Frequency', color = '#0E189C')\n",
    "ax.set_xlabel('Previous', color = '#0E189C')"
   ]
  },
  {
   "cell_type": "code",
   "execution_count": 22,
   "metadata": {},
   "outputs": [
    {
     "data": {
      "text/plain": [
       "Text(0.5,0,'Pdays')"
      ]
     },
     "execution_count": 22,
     "metadata": {},
     "output_type": "execute_result"
    },
    {
     "data": {
      "image/png": "[encoded data removed]",
      "text/plain": [
       "<Figure size 432x288 with 1 Axes>"
      ]
     },
     "metadata": {},
     "output_type": "display_data"
    }
   ],
   "source": [
    "sns.set()\n",
    "ax = sns.boxplot(copy_1.pdays, color = '#FF3A03')\n",
    "ax.set_title('Pdays Values Count', color = '#0E189C')\n",
    "ax.set_ylabel('Frequency', color = '#0E189C')\n",
    "ax.set_xlabel('Pdays', color = '#0E189C')"
   ]
  },
  {
   "cell_type": "code",
   "execution_count": 23,
   "metadata": {},
   "outputs": [],
   "source": [
    "# we plot the scatter matrix plot to find relation \n",
    "#pd.plotting.scatter_matrix(original_data)\n"
   ]
  },
  {
   "cell_type": "code",
   "execution_count": 24,
   "metadata": {},
   "outputs": [
    {
     "data": {
      "text/plain": [
       "<matplotlib.axes._subplots.AxesSubplot at 0x22a0dc91550>"
      ]
     },
     "execution_count": 24,
     "metadata": {},
     "output_type": "execute_result"
    },
    {
     "data": {
      "image/png": "[encoded data removed]",
      "text/plain": [
       "<Figure size 432x288 with 2 Axes>"
      ]
     },
     "metadata": {},
     "output_type": "display_data"
    }
   ],
   "source": [
    "#splt.matshow(original_data.corr(method ='pearson'))\n",
    "corr =original_data.corr(method = 'pearson')\n",
    "sns.heatmap(corr)"
   ]
  },
  {
   "cell_type": "code",
   "execution_count": null,
   "metadata": {},
   "outputs": [],
   "source": []
  },
  {
   "cell_type": "code",
   "execution_count": 25,
   "metadata": {},
   "outputs": [
    {
     "name": "stdout",
     "output_type": "stream",
     "text": [
      "[0, 1, 2, 3, 4, 5, 6, 7, 8, 9, 10, 11] ['admin.' 'blue-collar' 'entrepreneur' 'housemaid' 'management' 'retired'\n",
      " 'self-employed' 'services' 'student' 'technician' 'unemployed' 'unknown']\n"
     ]
    }
   ],
   "source": [
    "#data transformation. From categorical to numerical value\n",
    "original_data = pd.read_csv(\"bank-full.csv\", sep=\";\")\n",
    "\n",
    "le = preprocessing.LabelEncoder()\n",
    "le.fit(original_data['job'])\n",
    "original_data['job'] = (le.transform(original_data['job']))\n",
    "x = [x for x in range(len(set(original_data['job'])))]\n",
    "print(x,le.inverse_transform(x) )\n",
    "\n",
    "le.fit(original_data['marital'])\n",
    "original_data['marital'] = (le.transform(original_data['marital']))\n",
    "\n",
    "le.fit(original_data['education'])\n",
    "original_data['education'] = (le.transform(original_data['education']))\n",
    "\n",
    "le.fit(original_data['default'])\n",
    "original_data['default'] = (le.transform(original_data['default']))\n",
    "\n",
    "le.fit(original_data['housing'])\n",
    "original_data['housing'] = (le.transform(original_data['housing']))\n",
    "\n",
    "le.fit(original_data['loan'])\n",
    "original_data['loan'] = (le.transform(original_data['loan']))\n",
    "\n",
    "le.fit(original_data['contact'])\n",
    "original_data['contact'] = (le.transform(original_data['contact']))\n",
    "\n",
    "le.fit(original_data['month'])\n",
    "original_data['month'] = (le.transform(original_data['month']))\n",
    "\n",
    "le.fit(original_data['poutcome'])\n",
    "original_data['poutcome'] = (le.transform(original_data['poutcome']))\n",
    "\n",
    "le.fit(original_data['y'])\n",
    "original_data['y'] = (le.transform(original_data['y']))\n",
    "\n"
   ]
  },
  {
   "cell_type": "code",
   "execution_count": 26,
   "metadata": {},
   "outputs": [
    {
     "name": "stdout",
     "output_type": "stream",
     "text": [
      "   age  job  marital  education  default  balance  housing  loan  contact  \\\n",
      "0   58    4        1          2        0     2143        1     0        2   \n",
      "1   44    9        2          1        0       29        1     0        2   \n",
      "2   33    2        1          1        0        2        1     1        2   \n",
      "3   47    1        1          3        0     1506        1     0        2   \n",
      "4   33   11        2          3        0        1        0     0        2   \n",
      "\n",
      "   day  month  duration  campaign  pdays  previous  poutcome  y  \n",
      "0    5      8       261         1     -1         0         3  0  \n",
      "1    5      8       151         1     -1         0         3  0  \n",
      "2    5      8        76         1     -1         0         3  0  \n",
      "3    5      8        92         1     -1         0         3  0  \n",
      "4    5      8       198         1     -1         0         3  0   \n",
      "                 age           job       marital     education       default  \\\n",
      "count  45211.000000  45211.000000  45211.000000  45211.000000  45211.000000   \n",
      "mean      40.936210      4.339762      1.167725      1.224813      0.018027   \n",
      "std       10.618762      3.272657      0.608230      0.747997      0.133049   \n",
      "min       18.000000      0.000000      0.000000      0.000000      0.000000   \n",
      "25%       33.000000      1.000000      1.000000      1.000000      0.000000   \n",
      "50%       39.000000      4.000000      1.000000      1.000000      0.000000   \n",
      "75%       48.000000      7.000000      2.000000      2.000000      0.000000   \n",
      "max       95.000000     11.000000      2.000000      3.000000      1.000000   \n",
      "\n",
      "             balance       housing          loan       contact           day  \\\n",
      "count   45211.000000  45211.000000  45211.000000  45211.000000  45211.000000   \n",
      "mean     1362.272058      0.555838      0.160226      0.640242     15.806419   \n",
      "std      3044.765829      0.496878      0.366820      0.897951      8.322476   \n",
      "min     -8019.000000      0.000000      0.000000      0.000000      1.000000   \n",
      "25%        72.000000      0.000000      0.000000      0.000000      8.000000   \n",
      "50%       448.000000      1.000000      0.000000      0.000000     16.000000   \n",
      "75%      1428.000000      1.000000      0.000000      2.000000     21.000000   \n",
      "max    102127.000000      1.000000      1.000000      2.000000     31.000000   \n",
      "\n",
      "              month      duration      campaign         pdays      previous  \\\n",
      "count  45211.000000  45211.000000  45211.000000  45211.000000  45211.000000   \n",
      "mean       5.523014    258.163080      2.763841     40.197828      0.580323   \n",
      "std        3.006911    257.527812      3.098021    100.128746      2.303441   \n",
      "min        0.000000      0.000000      1.000000     -1.000000      0.000000   \n",
      "25%        3.000000    103.000000      1.000000     -1.000000      0.000000   \n",
      "50%        6.000000    180.000000      2.000000     -1.000000      0.000000   \n",
      "75%        8.000000    319.000000      3.000000     -1.000000      0.000000   \n",
      "max       11.000000   4918.000000     63.000000    871.000000    275.000000   \n",
      "\n",
      "           poutcome             y  \n",
      "count  45211.000000  45211.000000  \n",
      "mean       2.559974      0.116985  \n",
      "std        0.989059      0.321406  \n",
      "min        0.000000      0.000000  \n",
      "25%        3.000000      0.000000  \n",
      "50%        3.000000      0.000000  \n",
      "75%        3.000000      0.000000  \n",
      "max        3.000000      1.000000  \n",
      "0    39922\n",
      "1     5289\n",
      "Name: y, dtype: int64\n",
      "proportion of classes:\n",
      " 0    0.883015\n",
      "1    0.116985\n",
      "Name: y, dtype: float64\n"
     ]
    }
   ],
   "source": [
    "###data mining and descriptive\n",
    "\n",
    "print(original_data.head(),\"\\n\",  original_data.describe())\n",
    "\n",
    "### we want to know the repartition of the class\n",
    "print(original_data.y.value_counts())\n",
    "\n",
    "print(\"proportion of classes:\\n\", original_data.y.value_counts()/len(original_data.y))\n",
    "\n",
    "#### here we need to plot histogram to see if there are clear boundaries to choose variable\n",
    "### We need to find if there are outliers too"
   ]
  },
  {
   "cell_type": "code",
   "execution_count": 27,
   "metadata": {},
   "outputs": [
    {
     "name": "stdout",
     "output_type": "stream",
     "text": [
      "   age  job  marital  education  default  balance  housing  loan  contact  \\\n",
      "0   58    4        1          2        0     2143        1     0        2   \n",
      "1   44    9        2          1        0       29        1     0        2   \n",
      "2   33    2        1          1        0        2        1     1        2   \n",
      "3   47    1        1          3        0     1506        1     0        2   \n",
      "4   33   11        2          3        0        1        0     0        2   \n",
      "\n",
      "   day  month  duration  campaign  pdays  previous  poutcome  \n",
      "0    5      8       261         1     -1         0         3  \n",
      "1    5      8       151         1     -1         0         3  \n",
      "2    5      8        76         1     -1         0         3  \n",
      "3    5      8        92         1     -1         0         3  \n",
      "4    5      8       198         1     -1         0         3   \n",
      " 0    0\n",
      "1    0\n",
      "2    0\n",
      "3    0\n",
      "4    0\n",
      "Name: y, dtype: int32\n"
     ]
    }
   ],
   "source": [
    "x = original_data.iloc[:,:-1]\n",
    "y = original_data.iloc[:,-1]\n",
    "print(x.head(),\"\\n\" ,y.head())\n",
    "\n"
   ]
  },
  {
   "cell_type": "code",
   "execution_count": 28,
   "metadata": {},
   "outputs": [
    {
     "data": {
      "text/plain": [
       "<matplotlib.axes._subplots.AxesSubplot at 0x22a0de210b8>"
      ]
     },
     "execution_count": 28,
     "metadata": {},
     "output_type": "execute_result"
    },
    {
     "data": {
      "image/png": "[encoded data removed]",
      "text/plain": [
       "<Figure size 432x288 with 2 Axes>"
      ]
     },
     "metadata": {},
     "output_type": "display_data"
    }
   ],
   "source": [
    "corr =original_data.corr(method = 'pearson')\n",
    "sns.heatmap(corr)"
   ]
  },
  {
   "cell_type": "code",
   "execution_count": 29,
   "metadata": {},
   "outputs": [
    {
     "name": "stdout",
     "output_type": "stream",
     "text": [
      "proportion of classes:\n",
      " 0    0.881434\n",
      "1    0.118566\n",
      "Name: y, dtype: float64\n"
     ]
    }
   ],
   "source": [
    "X_train, X_test, y_train, y_test = train_test_split(x, y, test_size=0.33)\n",
    "\n",
    "\n",
    "print(\"proportion of classes:\\n\", y_test.value_counts()/len(y_test))\n",
    "###by spliting randomly we almost have the same proportion of classa 0 and 1"
   ]
  },
  {
   "cell_type": "markdown",
   "metadata": {},
   "source": [
    "### we start apllying machine learning algorithme and we try to get the best model without overfitting"
   ]
  },
  {
   "cell_type": "markdown",
   "metadata": {},
   "source": [
    "### the first algoritms are presents here and we will try to improve accuracy"
   ]
  },
  {
   "cell_type": "code",
   "execution_count": 30,
   "metadata": {},
   "outputs": [
    {
     "name": "stdout",
     "output_type": "stream",
     "text": [
      "Accuracy: 0.8703083109919572\n"
     ]
    }
   ],
   "source": [
    "len(X_train)\n",
    "# Train\n",
    "clf = DecisionTreeClassifier()\n",
    "clf.fit(X_train,y_train)\n",
    "y_pred = clf.predict(X_test)\n",
    "print(\"Accuracy:\",metrics.accuracy_score(y_test, y_pred))"
   ]
  },
  {
   "cell_type": "code",
   "execution_count": 31,
   "metadata": {},
   "outputs": [],
   "source": [
    "#plot_tree(clf.fit(x,y)) \n",
    "\n",
    "# this clearly show that we need to focus on the feature selection."
   ]
  },
  {
   "cell_type": "code",
   "execution_count": 32,
   "metadata": {},
   "outputs": [
    {
     "name": "stdout",
     "output_type": "stream",
     "text": [
      "Sensitivity 0.4595816845675523\n",
      "Specificity 0.9255569918637366\n"
     ]
    }
   ],
   "source": [
    "confusion_ma = confusion_matrix(y_test, y_pred)\n",
    "\n",
    "TP = confusion_ma[1, 1]\n",
    "TN = confusion_ma[0, 0]\n",
    "FP = confusion_ma[0, 1]\n",
    "FN = confusion_ma[1, 0]\n",
    "\n",
    "#Sensitivity\n",
    "print('Sensitivity', TP / float(FN + TP))\n",
    "\n",
    "#Specificity\n",
    "print('Specificity', TN / (TN + FP))\n",
    "#########################################!!! LOW SENSITIVITY!!!"
   ]
  },
  {
   "cell_type": "code",
   "execution_count": 33,
   "metadata": {},
   "outputs": [
    {
     "name": "stdout",
     "output_type": "stream",
     "text": [
      "Accuracy: 0.8408176943699732\n"
     ]
    }
   ],
   "source": [
    "X_train, X_test, y_train, y_test = train_test_split(x, y, test_size=0.33)\n",
    "gnb = GaussianNB()\n",
    "gnb.fit(X_train, y_train)\n",
    "y_pred = gnb.predict(X_test)\n",
    "\n",
    "print(\"Accuracy:\",metrics.accuracy_score(y_test, y_pred))"
   ]
  },
  {
   "cell_type": "code",
   "execution_count": 34,
   "metadata": {},
   "outputs": [
    {
     "name": "stdout",
     "output_type": "stream",
     "text": [
      "Sensitivity 0.4583808437856328\n",
      "Specificity 0.8917666717302142\n"
     ]
    }
   ],
   "source": [
    "confusion_ma = confusion_matrix(y_test, y_pred)\n",
    "\n",
    "TP = confusion_ma[1, 1]\n",
    "TN = confusion_ma[0, 0]\n",
    "FP = confusion_ma[0, 1]\n",
    "FN = confusion_ma[1, 0]\n",
    "\n",
    "#Sensitivity\n",
    "print('Sensitivity', TP / float(FN + TP))\n",
    "\n",
    "#Specificity\n",
    "print('Specificity', TN / (TN + FP))"
   ]
  },
  {
   "cell_type": "code",
   "execution_count": 35,
   "metadata": {},
   "outputs": [
    {
     "name": "stdout",
     "output_type": "stream",
     "text": [
      "Accuracy: 0.8453083109919571\n"
     ]
    }
   ],
   "source": [
    "X_train, X_test, y_train, y_test = train_test_split(x, y, test_size=0.33)\n",
    "neigh = KNeighborsClassifier(n_neighbors=5)\n",
    "neigh.fit(X_train, y_train)\n",
    "y_pred = gnb.predict(X_test)\n",
    "\n",
    "print(\"Accuracy:\",metrics.accuracy_score(y_test, y_pred))"
   ]
  },
  {
   "cell_type": "code",
   "execution_count": 36,
   "metadata": {},
   "outputs": [
    {
     "name": "stdout",
     "output_type": "stream",
     "text": [
      "Sensitivity 0.4597636465953855\n",
      "Specificity 0.8974358974358975\n"
     ]
    }
   ],
   "source": [
    "confusion_ma = confusion_matrix(y_test, y_pred)\n",
    "\n",
    "TP = confusion_ma[1, 1]\n",
    "TN = confusion_ma[0, 0]\n",
    "FP = confusion_ma[0, 1]\n",
    "FN = confusion_ma[1, 0]\n",
    "\n",
    "#Sensitivity\n",
    "print('Sensitivity', TP / float(FN + TP))\n",
    "\n",
    "#Specificity\n",
    "print('Specificity', TN / (TN + FP))"
   ]
  },
  {
   "cell_type": "code",
   "execution_count": 37,
   "metadata": {},
   "outputs": [
    {
     "name": "stdout",
     "output_type": "stream",
     "text": [
      "Accuracy: 0.842627345844504\n"
     ]
    }
   ],
   "source": [
    "X_train, X_test, y_train, y_test = train_test_split(x, y, test_size=0.33)\n",
    "\n",
    "clf = MLPClassifier(solver='lbfgs', alpha=1e-5, hidden_layer_sizes=(15,), random_state=1)\n",
    "clf.fit(X_train,y_train)\n",
    "\n",
    "y_pred = gnb.predict(X_test)\n",
    "print(\"Accuracy:\",metrics.accuracy_score(y_test, y_pred))"
   ]
  },
  {
   "cell_type": "code",
   "execution_count": 38,
   "metadata": {},
   "outputs": [
    {
     "name": "stdout",
     "output_type": "stream",
     "text": [
      "Sensitivity 0.4464186563020544\n",
      "Specificity 0.8970195899077673\n"
     ]
    }
   ],
   "source": [
    "confusion_ma = confusion_matrix(y_test, y_pred)\n",
    "\n",
    "TP = confusion_ma[1, 1]\n",
    "TN = confusion_ma[0, 0]\n",
    "FP = confusion_ma[0, 1]\n",
    "FN = confusion_ma[1, 0]\n",
    "\n",
    "#Sensitivity\n",
    "print('Sensitivity', TP / float(FN + TP))\n",
    "\n",
    "#Specificity\n",
    "print('Specificity', TN / (TN + FP))"
   ]
  },
  {
   "cell_type": "code",
   "execution_count": 221,
   "metadata": {},
   "outputs": [
    {
     "name": "stderr",
     "output_type": "stream",
     "text": [
      "D:\\Langage_Programation\\Anaconda3\\lib\\site-packages\\sklearn\\svm\\base.py:193: FutureWarning: The default value of gamma will change from 'auto' to 'scale' in version 0.22 to account better for unscaled features. Set gamma explicitly to 'auto' or 'scale' to avoid this warning.\n",
      "  \"avoid this warning.\", FutureWarning)\n"
     ]
    },
    {
     "name": "stdout",
     "output_type": "stream",
     "text": [
      "Accuracy: 0.8839812332439678\n"
     ]
    }
   ],
   "source": [
    "X_train, X_test, y_train, y_test = train_test_split(x, y, test_size=0.33)\n",
    "\n",
    "\n",
    "clf = svm.SVC()\n",
    "clf.fit(X_train,y_train)\n",
    "\n",
    "y_pred = clf.predict(X_test)\n",
    "print(\"Accuracy:\",metrics.accuracy_score(y_test, y_pred))"
   ]
  },
  {
   "cell_type": "markdown",
   "metadata": {},
   "source": [
    "###  we will go more in detail to have a better model"
   ]
  },
  {
   "cell_type": "code",
   "execution_count": 39,
   "metadata": {},
   "outputs": [
    {
     "name": "stdout",
     "output_type": "stream",
     "text": [
      "Accuracy: 0.842627345844504\n",
      "Accuracy with  1 neighbors  0.8502680965147453\n",
      "Accuracy with  2 neighbors  0.8779490616621984\n",
      "Accuracy with  3 neighbors  0.8729222520107238\n",
      "Accuracy with  4 neighbors  0.8802278820375335\n",
      "Accuracy with  5 neighbors  0.87828418230563\n",
      "Accuracy with  6 neighbors  0.8809651474530831\n",
      "Accuracy with  7 neighbors  0.8803619302949062\n",
      "Accuracy with  1 neighbors and weight distance  0.8502680965147453\n",
      "Accuracy with  2 neighbors and weight distance  0.8504691689008043\n",
      "Accuracy with  3 neighbors and weight distance  0.8729892761394102\n",
      "Accuracy with  4 neighbors and weight distance  0.8729222520107238\n",
      "Accuracy with  5 neighbors and weight distance  0.8770777479892762\n",
      "Accuracy with  6 neighbors and weight distance  0.8780831099195711\n",
      "Accuracy with  7 neighbors and weight distance  0.8806970509383378\n"
     ]
    },
    {
     "data": {
      "text/plain": [
       "array([[12680,   439],\n",
       "       [ 1341,   460]], dtype=int64)"
      ]
     },
     "execution_count": 39,
     "metadata": {},
     "output_type": "execute_result"
    }
   ],
   "source": [
    "### Kneighboor classifier\n",
    "\n",
    "neigh = KNeighborsClassifier(n_neighbors=3, weights='uniform', algorithm='auto', p=2)\n",
    "neigh.fit(X_train, y_train)\n",
    "\n",
    "y_predict = neigh.predict(X_test)\n",
    "\n",
    "print(\"Accuracy:\",metrics.accuracy_score(y_test, y_pred))\n",
    "\n",
    "for k in range(1,8):\n",
    "        \n",
    "    neigh = KNeighborsClassifier(n_neighbors=k, weights='uniform', algorithm='auto', p=2)\n",
    "    neigh.fit(X_train, y_train)\n",
    "\n",
    "    y_predict = neigh.predict(X_test)\n",
    "\n",
    "    print(\"Accuracy with \",k, \"neighbors \" ,metrics.accuracy_score(y_test, y_predict))\n",
    "\n",
    "### there is no need to change the value of k\n",
    "\n",
    "\n",
    "for k in range(1,8):\n",
    "        \n",
    "    neigh = KNeighborsClassifier(n_neighbors=k, weights='distance', algorithm='auto', p=2)\n",
    "    neigh.fit(X_train, y_train)\n",
    "\n",
    "    y_predict = neigh.predict(X_test)\n",
    "\n",
    "    print(\"Accuracy with \",k, \"neighbors and weight distance \" ,metrics.accuracy_score(y_test, y_predict))\n",
    "\n",
    "### there is no need to change the weight.\n",
    "\n",
    "###The best value is made for 6 neighbors and uniform weigth\n",
    "confusion_matrix(y_test,y_predict)"
   ]
  },
  {
   "cell_type": "code",
   "execution_count": 40,
   "metadata": {},
   "outputs": [
    {
     "name": "stdout",
     "output_type": "stream",
     "text": [
      "Accuracy  7  : 0.8906836461126005\n",
      "Sensitivity 0.410882842865075\n",
      "Specificity 0.9565515664303682\n"
     ]
    },
    {
     "data": {
      "text/plain": [
       "array([[12549,   570],\n",
       "       [ 1061,   740]], dtype=int64)"
      ]
     },
     "execution_count": 40,
     "metadata": {},
     "output_type": "execute_result"
    }
   ],
   "source": [
    "clf = DecisionTreeClassifier(criterion='gini', splitter='random', min_samples_split=20)\n",
    "clf.fit(X_train,y_train)\n",
    "y_pred = clf.predict(X_test)\n",
    "print(\"Accuracy \",k, \" :\",metrics.accuracy_score(y_test, y_pred))\n",
    "confusion_ma = confusion_matrix(y_test, y_pred)\n",
    "\n",
    "TP = confusion_ma[1, 1]\n",
    "TN = confusion_ma[0, 0]\n",
    "FP = confusion_ma[0, 1]\n",
    "FN = confusion_ma[1, 0]\n",
    "\n",
    "#Sensitivity\n",
    "print('Sensitivity', TP / float(FN + TP))\n",
    "\n",
    "#Specificity\n",
    "print('Specificity', TN / (TN + FP))\n",
    "confusion_ma"
   ]
  },
  {
   "cell_type": "code",
   "execution_count": 41,
   "metadata": {},
   "outputs": [
    {
     "name": "stdout",
     "output_type": "stream",
     "text": [
      "Accuracy  1  : 0.8979892761394102\n",
      "Sensitivity 0.36590782898389784\n",
      "Specificity 0.9710343776202455\n",
      "Accuracy  2  : 0.899396782841823\n",
      "Sensitivity 0.4031093836757357\n",
      "Specificity 0.9675280128058541\n",
      "Accuracy  3  : 0.9004691689008043\n",
      "Sensitivity 0.38256524153248195\n",
      "Specificity 0.9715679548746093\n",
      "Accuracy  4  : 0.9009383378016086\n",
      "Sensitivity 0.4053303720155469\n",
      "Specificity 0.9689762939248419\n",
      "Accuracy  5  : 0.8978552278820375\n",
      "Sensitivity 0.3786785119378123\n",
      "Specificity 0.9691287445689458\n",
      "Accuracy  6  : 0.8986595174262735\n",
      "Sensitivity 0.4036646307606885\n",
      "Specificity 0.9666133089412303\n",
      "Accuracy  7  : 0.900804289544236\n",
      "Sensitivity 0.38423098278734036\n",
      "Specificity 0.9717204055187133\n",
      "Accuracy  8  : 0.9016085790884718\n",
      "Sensitivity 0.4097723486951694\n",
      "Specificity 0.9691287445689458\n",
      "Accuracy  9  : 0.8999329758713137\n",
      "Sensitivity 0.38256524153248195\n",
      "Specificity 0.9709581522981935\n",
      "Accuracy  10  : 0.9013404825737266\n",
      "Sensitivity 0.40755136035535816\n",
      "Specificity 0.9691287445689458\n",
      "Accuracy  11  : 0.9002680965147453\n",
      "Sensitivity 0.38589672404219877\n",
      "Specificity 0.9708819269761415\n",
      "Accuracy  12  : 0.9013404825737266\n",
      "Sensitivity 0.4131038312048862\n",
      "Specificity 0.9683664913484259\n",
      "Accuracy  13  : 0.9012064343163538\n",
      "Sensitivity 0.3920044419766796\n",
      "Specificity 0.9711106029422975\n",
      "Accuracy  14  : 0.900201072386059\n",
      "Sensitivity 0.4036646307606885\n",
      "Specificity 0.9683664913484259\n"
     ]
    }
   ],
   "source": [
    "for k in range(1,15):\n",
    "    rfc = RandomForestClassifier(n_estimators=25+k, criterion='gini')\n",
    "    rfc.fit(X_train, y_train)\n",
    "    y_pred = rfc.predict(X_test)\n",
    "    print(\"Accuracy \",k, \" :\",metrics.accuracy_score(y_test, y_pred))\n",
    "    \n",
    "    confusion_ma = confusion_matrix(y_test, y_pred)\n",
    "\n",
    "    TP = confusion_ma[1, 1]\n",
    "    TN = confusion_ma[0, 0]\n",
    "    FP = confusion_ma[0, 1]\n",
    "    FN = confusion_ma[1, 0]\n",
    "\n",
    "    #Sensitivity\n",
    "    print('Sensitivity', TP / float(FN + TP))\n",
    "\n",
    "    #Specificity\n",
    "    print('Specificity', TN / (TN + FP))\n"
   ]
  },
  {
   "cell_type": "code",
   "execution_count": 42,
   "metadata": {},
   "outputs": [],
   "source": [
    "### we have to split the data  set into equal class"
   ]
  },
  {
   "cell_type": "code",
   "execution_count": null,
   "metadata": {},
   "outputs": [],
   "source": []
  },
  {
   "cell_type": "code",
   "execution_count": 43,
   "metadata": {},
   "outputs": [
    {
     "data": {
      "text/html": [
       "<div>\n",
       "<style scoped>\n",
       "    .dataframe tbody tr th:only-of-type {\n",
       "        vertical-align: middle;\n",
       "    }\n",
       "\n",
       "    .dataframe tbody tr th {\n",
       "        vertical-align: top;\n",
       "    }\n",
       "\n",
       "    .dataframe thead th {\n",
       "        text-align: right;\n",
       "    }\n",
       "</style>\n",
       "<table border=\"1\" class=\"dataframe\">\n",
       "  <thead>\n",
       "    <tr style=\"text-align: right;\">\n",
       "      <th></th>\n",
       "      <th>age</th>\n",
       "      <th>job</th>\n",
       "      <th>marital</th>\n",
       "      <th>education</th>\n",
       "      <th>default</th>\n",
       "      <th>balance</th>\n",
       "      <th>housing</th>\n",
       "      <th>loan</th>\n",
       "      <th>contact</th>\n",
       "      <th>day</th>\n",
       "      <th>month</th>\n",
       "      <th>duration</th>\n",
       "      <th>campaign</th>\n",
       "      <th>pdays</th>\n",
       "      <th>previous</th>\n",
       "      <th>poutcome</th>\n",
       "      <th>y</th>\n",
       "    </tr>\n",
       "  </thead>\n",
       "  <tbody>\n",
       "    <tr>\n",
       "      <th>count</th>\n",
       "      <td>10578.000000</td>\n",
       "      <td>10578.000000</td>\n",
       "      <td>10578.000000</td>\n",
       "      <td>10578.000000</td>\n",
       "      <td>10578.000000</td>\n",
       "      <td>10578.000000</td>\n",
       "      <td>10578.000000</td>\n",
       "      <td>10578.000000</td>\n",
       "      <td>10578.000000</td>\n",
       "      <td>10578.000000</td>\n",
       "      <td>10578.000000</td>\n",
       "      <td>10578.000000</td>\n",
       "      <td>10578.000000</td>\n",
       "      <td>10578.000000</td>\n",
       "      <td>10578.000000</td>\n",
       "      <td>10578.000000</td>\n",
       "      <td>10578.000000</td>\n",
       "    </tr>\n",
       "    <tr>\n",
       "      <th>mean</th>\n",
       "      <td>41.316884</td>\n",
       "      <td>4.502269</td>\n",
       "      <td>1.197580</td>\n",
       "      <td>1.284836</td>\n",
       "      <td>0.013330</td>\n",
       "      <td>1530.914067</td>\n",
       "      <td>0.473435</td>\n",
       "      <td>0.130459</td>\n",
       "      <td>0.485631</td>\n",
       "      <td>15.539894</td>\n",
       "      <td>5.467952</td>\n",
       "      <td>379.122802</td>\n",
       "      <td>2.508130</td>\n",
       "      <td>52.548780</td>\n",
       "      <td>0.854509</td>\n",
       "      <td>2.464360</td>\n",
       "      <td>0.500000</td>\n",
       "    </tr>\n",
       "    <tr>\n",
       "      <th>std</th>\n",
       "      <td>11.989555</td>\n",
       "      <td>3.258206</td>\n",
       "      <td>0.628125</td>\n",
       "      <td>0.745145</td>\n",
       "      <td>0.114687</td>\n",
       "      <td>3218.291508</td>\n",
       "      <td>0.499317</td>\n",
       "      <td>0.336824</td>\n",
       "      <td>0.817248</td>\n",
       "      <td>8.389991</td>\n",
       "      <td>3.194990</td>\n",
       "      <td>349.839787</td>\n",
       "      <td>2.731116</td>\n",
       "      <td>108.804806</td>\n",
       "      <td>2.287155</td>\n",
       "      <td>1.011939</td>\n",
       "      <td>0.500024</td>\n",
       "    </tr>\n",
       "    <tr>\n",
       "      <th>min</th>\n",
       "      <td>18.000000</td>\n",
       "      <td>0.000000</td>\n",
       "      <td>0.000000</td>\n",
       "      <td>0.000000</td>\n",
       "      <td>0.000000</td>\n",
       "      <td>-3372.000000</td>\n",
       "      <td>0.000000</td>\n",
       "      <td>0.000000</td>\n",
       "      <td>0.000000</td>\n",
       "      <td>1.000000</td>\n",
       "      <td>0.000000</td>\n",
       "      <td>0.000000</td>\n",
       "      <td>1.000000</td>\n",
       "      <td>-1.000000</td>\n",
       "      <td>0.000000</td>\n",
       "      <td>0.000000</td>\n",
       "      <td>0.000000</td>\n",
       "    </tr>\n",
       "    <tr>\n",
       "      <th>25%</th>\n",
       "      <td>32.000000</td>\n",
       "      <td>1.000000</td>\n",
       "      <td>1.000000</td>\n",
       "      <td>1.000000</td>\n",
       "      <td>0.000000</td>\n",
       "      <td>117.000000</td>\n",
       "      <td>0.000000</td>\n",
       "      <td>0.000000</td>\n",
       "      <td>0.000000</td>\n",
       "      <td>8.000000</td>\n",
       "      <td>3.000000</td>\n",
       "      <td>144.000000</td>\n",
       "      <td>1.000000</td>\n",
       "      <td>-1.000000</td>\n",
       "      <td>0.000000</td>\n",
       "      <td>2.000000</td>\n",
       "      <td>0.000000</td>\n",
       "    </tr>\n",
       "    <tr>\n",
       "      <th>50%</th>\n",
       "      <td>39.000000</td>\n",
       "      <td>4.000000</td>\n",
       "      <td>1.000000</td>\n",
       "      <td>1.000000</td>\n",
       "      <td>0.000000</td>\n",
       "      <td>547.000000</td>\n",
       "      <td>0.000000</td>\n",
       "      <td>0.000000</td>\n",
       "      <td>0.000000</td>\n",
       "      <td>15.000000</td>\n",
       "      <td>6.000000</td>\n",
       "      <td>260.000000</td>\n",
       "      <td>2.000000</td>\n",
       "      <td>-1.000000</td>\n",
       "      <td>0.000000</td>\n",
       "      <td>3.000000</td>\n",
       "      <td>0.500000</td>\n",
       "    </tr>\n",
       "    <tr>\n",
       "      <th>75%</th>\n",
       "      <td>49.000000</td>\n",
       "      <td>7.000000</td>\n",
       "      <td>2.000000</td>\n",
       "      <td>2.000000</td>\n",
       "      <td>0.000000</td>\n",
       "      <td>1718.000000</td>\n",
       "      <td>1.000000</td>\n",
       "      <td>0.000000</td>\n",
       "      <td>1.000000</td>\n",
       "      <td>21.000000</td>\n",
       "      <td>8.000000</td>\n",
       "      <td>506.000000</td>\n",
       "      <td>3.000000</td>\n",
       "      <td>66.000000</td>\n",
       "      <td>1.000000</td>\n",
       "      <td>3.000000</td>\n",
       "      <td>1.000000</td>\n",
       "    </tr>\n",
       "    <tr>\n",
       "      <th>max</th>\n",
       "      <td>95.000000</td>\n",
       "      <td>11.000000</td>\n",
       "      <td>2.000000</td>\n",
       "      <td>3.000000</td>\n",
       "      <td>1.000000</td>\n",
       "      <td>81204.000000</td>\n",
       "      <td>1.000000</td>\n",
       "      <td>1.000000</td>\n",
       "      <td>2.000000</td>\n",
       "      <td>31.000000</td>\n",
       "      <td>11.000000</td>\n",
       "      <td>3881.000000</td>\n",
       "      <td>44.000000</td>\n",
       "      <td>854.000000</td>\n",
       "      <td>58.000000</td>\n",
       "      <td>3.000000</td>\n",
       "      <td>1.000000</td>\n",
       "    </tr>\n",
       "  </tbody>\n",
       "</table>\n",
       "</div>"
      ],
      "text/plain": [
       "                age           job       marital     education       default  \\\n",
       "count  10578.000000  10578.000000  10578.000000  10578.000000  10578.000000   \n",
       "mean      41.316884      4.502269      1.197580      1.284836      0.013330   \n",
       "std       11.989555      3.258206      0.628125      0.745145      0.114687   \n",
       "min       18.000000      0.000000      0.000000      0.000000      0.000000   \n",
       "25%       32.000000      1.000000      1.000000      1.000000      0.000000   \n",
       "50%       39.000000      4.000000      1.000000      1.000000      0.000000   \n",
       "75%       49.000000      7.000000      2.000000      2.000000      0.000000   \n",
       "max       95.000000     11.000000      2.000000      3.000000      1.000000   \n",
       "\n",
       "            balance       housing          loan       contact           day  \\\n",
       "count  10578.000000  10578.000000  10578.000000  10578.000000  10578.000000   \n",
       "mean    1530.914067      0.473435      0.130459      0.485631     15.539894   \n",
       "std     3218.291508      0.499317      0.336824      0.817248      8.389991   \n",
       "min    -3372.000000      0.000000      0.000000      0.000000      1.000000   \n",
       "25%      117.000000      0.000000      0.000000      0.000000      8.000000   \n",
       "50%      547.000000      0.000000      0.000000      0.000000     15.000000   \n",
       "75%     1718.000000      1.000000      0.000000      1.000000     21.000000   \n",
       "max    81204.000000      1.000000      1.000000      2.000000     31.000000   \n",
       "\n",
       "              month      duration      campaign         pdays      previous  \\\n",
       "count  10578.000000  10578.000000  10578.000000  10578.000000  10578.000000   \n",
       "mean       5.467952    379.122802      2.508130     52.548780      0.854509   \n",
       "std        3.194990    349.839787      2.731116    108.804806      2.287155   \n",
       "min        0.000000      0.000000      1.000000     -1.000000      0.000000   \n",
       "25%        3.000000    144.000000      1.000000     -1.000000      0.000000   \n",
       "50%        6.000000    260.000000      2.000000     -1.000000      0.000000   \n",
       "75%        8.000000    506.000000      3.000000     66.000000      1.000000   \n",
       "max       11.000000   3881.000000     44.000000    854.000000     58.000000   \n",
       "\n",
       "           poutcome             y  \n",
       "count  10578.000000  10578.000000  \n",
       "mean       2.464360      0.500000  \n",
       "std        1.011939      0.500024  \n",
       "min        0.000000      0.000000  \n",
       "25%        2.000000      0.000000  \n",
       "50%        3.000000      0.500000  \n",
       "75%        3.000000      1.000000  \n",
       "max        3.000000      1.000000  "
      ]
     },
     "execution_count": 43,
     "metadata": {},
     "output_type": "execute_result"
    }
   ],
   "source": [
    "X_train1= original_data[original_data['y']==1]\n",
    "X_train0 = original_data[original_data['y']==0].sample(n=len(X_train1), random_state=0)\n",
    "\n",
    "\n",
    "data = pd.concat([X_train0, X_train1])\n",
    "\n",
    "x = data.iloc[:,:-1]\n",
    "y = data.iloc[:,-1]\n",
    "\n",
    "\n",
    "data.describe()\n"
   ]
  },
  {
   "cell_type": "code",
   "execution_count": 44,
   "metadata": {},
   "outputs": [],
   "source": [
    "X_train1, X_test1, y_train1, y_test1 = train_test_split(x, y, test_size=0.33)\n"
   ]
  },
  {
   "cell_type": "code",
   "execution_count": 45,
   "metadata": {},
   "outputs": [
    {
     "name": "stdout",
     "output_type": "stream",
     "text": [
      "Accuracy: 0.7378974505872243\n"
     ]
    }
   ],
   "source": [
    "### Kneighboor classifier\n",
    "\n",
    "neigh = KNeighborsClassifier(n_neighbors=3, weights='uniform', algorithm='auto', p=2)\n",
    "neigh.fit(X_train1, y_train1)\n",
    "\n",
    "y_predict1 = neigh.predict(X_test1)\n",
    "y_predict1.reshape(len(y_predict1),)\n",
    "y_test.values.reshape(len(y_test),)\n",
    "\n",
    "print(\"Accuracy:\",metrics.accuracy_score(y_test1, y_predict1))\n"
   ]
  },
  {
   "cell_type": "code",
   "execution_count": 46,
   "metadata": {},
   "outputs": [
    {
     "name": "stdout",
     "output_type": "stream",
     "text": [
      "(3491,)\n",
      "(3491,)\n"
     ]
    }
   ],
   "source": [
    "print(y_test1.shape)\n",
    "print(y_predict1.shape)"
   ]
  },
  {
   "cell_type": "code",
   "execution_count": 47,
   "metadata": {},
   "outputs": [
    {
     "data": {
      "text/plain": [
       "array([[1302,  439],\n",
       "       [ 476, 1274]], dtype=int64)"
      ]
     },
     "execution_count": 47,
     "metadata": {},
     "output_type": "execute_result"
    }
   ],
   "source": [
    "confusion_ma = confusion_matrix(y_test1, y_predict1)\n",
    "confusion_ma"
   ]
  },
  {
   "cell_type": "code",
   "execution_count": 248,
   "metadata": {},
   "outputs": [
    {
     "name": "stdout",
     "output_type": "stream",
     "text": [
      "Accuracy : 0.8166714408478946\n"
     ]
    },
    {
     "data": {
      "text/plain": [
       "'\\n\\nTP = TP/TP[-1]\\nTN = TN/n\\nFP= FP/FP[-1]\\nFN = FN/n\\nsensibility = TP/(TP+FP)\\nspecificity = TN/(TN+FN)\\nantispecificity = 1 - specificity\\n\\nplt.figure()\\n\\nplt.plot(specificity,sensibility)\\n\\nindice=np.linspace(0,1,20)\\n\\n\\n\\n\\nprint(indice)\\nX=[]\\nY=[]\\nX.append(0)\\nY.append(0)\\nfor k in range(0,len(indice)-1):\\n    \\n    X.append(sensibility[int(indice[k]*n-1)])\\n    Y.append(antispecificity[int(indice[k]*n-1)])\\n    print(int(indice[k]*n))\\n\\nprint(sensibility)    \\nprint(X)\\n\\nX.append(1)\\nY.append(1)\\nplt.figure()\\n\\nplt.scatter(X,Y)\\n'"
      ]
     },
     "execution_count": 248,
     "metadata": {},
     "output_type": "execute_result"
    },
    {
     "data": {
      "image/png": "[encoded data removed]",
      "text/plain": [
       "<Figure size 432x288 with 1 Axes>"
      ]
     },
     "metadata": {},
     "output_type": "display_data"
    }
   ],
   "source": [
    "clf = DecisionTreeClassifier(criterion='gini', splitter='random', min_samples_split=20)\n",
    "clf.fit(X_train1,y_train1)\n",
    "y_predict1 = clf.predict(X_test1)\n",
    "print(\"Accuracy :\",metrics.accuracy_score(y_test1, y_predict1))\n",
    "confusion_matrix(y_test1, y_predict1)\n",
    "\n",
    "n = len(y_test1)\n",
    "\n",
    "\n",
    "\n",
    "TP = []\n",
    "TN = []\n",
    "FP = []\n",
    "FN = []\n",
    "\n",
    "#initialize\n",
    "\n",
    "if ((y_predict1[0]==0) and (y_test1.iloc[0]==0)):\n",
    "    TP.append((1))\n",
    "    TN.append(0)\n",
    "    FP.append(0)\n",
    "    FN.append(0)\n",
    "if ((y_predict1[0]==0) and (y_test1.iloc[0]==1)):\n",
    "    TP.append(0)\n",
    "    TN.append(0)\n",
    "    FP.append(0)\n",
    "    FN.append(1)\n",
    "if ((y_predict1[0]==1) and (y_test1.iloc[0]==0)):\n",
    "    TP.append(0)\n",
    "    TN.append(0)\n",
    "    FP.append(1)\n",
    "    FN.append(0)\n",
    "if ((y_predict1[0]==1) and (y_test1.iloc[0]==1)):\n",
    "    TP.append(0)\n",
    "    TN.append(1)\n",
    "    FP.append(0)\n",
    "    FN.append(0)\n",
    "\n",
    "for k in range(1,n):\n",
    "    if ((y_predict1[k]==0) and (y_test1.iloc[k]==0)):\n",
    "        TP.append((TP[k-1]+1))\n",
    "        TN.append(TN[k-1]+0)\n",
    "        FP.append(FP[k-1]+0)\n",
    "        FN.append(FN[k-1]+0)\n",
    "        \n",
    "    if ((y_predict1[k]==0) and (y_test1.iloc[k]==1)):\n",
    "        TP.append((TP[k-1]+0))\n",
    "        TN.append(TN[k-1]+0)\n",
    "        FP.append(FP[k-1]+0)\n",
    "        FN.append(FN[k-1]+1)\n",
    "    if ((y_predict1[k]==1) and (y_test1.iloc[k]==0)):\n",
    "        TP.append((TP[k-1]+0))\n",
    "        TN.append(TN[k-1]+0)\n",
    "        FP.append(FP[k-1]+1)\n",
    "        FN.append(FN[k-1]+0)\n",
    "    if ((y_predict1[k]==1) and (y_test1.iloc[k]==1)):\n",
    "        TP.append((TP[k-1]+0))\n",
    "        TN.append(TN[k-1]+1)\n",
    "        FP.append(FP[k-1]+0)\n",
    "        FN.append(FN[k-1]+0)\n",
    "    \n",
    "\n",
    "    \n",
    "TP = np.asarray(TP)\n",
    "TN = np.asarray(TN)\n",
    "FP = np.asarray(FP)\n",
    "FN = np.asarray(FN)\n",
    "\n",
    "\n",
    "\n",
    "plt.figure()\n",
    "\n",
    "plt.scatter(FP,TP)\n",
    "\n",
    "\n",
    "\n",
    "\n",
    "\n",
    "\n",
    "\n",
    "\"\"\"\n",
    "\n",
    "TP = TP/TP[-1]\n",
    "TN = TN/n\n",
    "FP= FP/FP[-1]\n",
    "FN = FN/n\n",
    "sensibility = TP/(TP+FP)\n",
    "specificity = TN/(TN+FN)\n",
    "antispecificity = 1 - specificity\n",
    "\n",
    "plt.figure()\n",
    "\n",
    "plt.plot(specificity,sensibility)\n",
    "\n",
    "indice=np.linspace(0,1,20)\n",
    "\n",
    "\n",
    "\n",
    "\n",
    "print(indice)\n",
    "X=[]\n",
    "Y=[]\n",
    "X.append(0)\n",
    "Y.append(0)\n",
    "for k in range(0,len(indice)-1):\n",
    "    \n",
    "    X.append(sensibility[int(indice[k]*n-1)])\n",
    "    Y.append(antispecificity[int(indice[k]*n-1)])\n",
    "    print(int(indice[k]*n))\n",
    "\n",
    "print(sensibility)    \n",
    "print(X)\n",
    "\n",
    "X.append(1)\n",
    "Y.append(1)\n",
    "plt.figure()\n",
    "\n",
    "plt.scatter(X,Y)\n",
    "\"\"\""
   ]
  },
  {
   "cell_type": "code",
   "execution_count": 72,
   "metadata": {},
   "outputs": [
    {
     "name": "stdout",
     "output_type": "stream",
     "text": [
      "Accuracy  3490  : 0.8352907476367802\n"
     ]
    },
    {
     "name": "stderr",
     "output_type": "stream",
     "text": [
      "D:\\Langage_Programation\\Anaconda3\\lib\\site-packages\\sklearn\\ensemble\\forest.py:245: FutureWarning: The default value of n_estimators will change from 10 in version 0.20 to 100 in 0.22.\n",
      "  \"10 in version 0.20 to 100 in 0.22.\", FutureWarning)\n"
     ]
    },
    {
     "data": {
      "text/plain": [
       "array([[1468,  273],\n",
       "       [ 302, 1448]], dtype=int64)"
      ]
     },
     "execution_count": 72,
     "metadata": {},
     "output_type": "execute_result"
    }
   ],
   "source": [
    "clf = RandomForestClassifier(max_depth=30, random_state=0)\n",
    "clf.fit(X_train1,y_train1)\n",
    "y_predict1=clf.predict(X_test1)\n",
    "print(\"Accuracy \",k, \" :\",metrics.accuracy_score(y_test1, y_predict1))\n",
    "confusion_matrix(y_test1, y_predict1)\n"
   ]
  },
  {
   "cell_type": "code",
   "execution_count": 50,
   "metadata": {},
   "outputs": [
    {
     "name": "stdout",
     "output_type": "stream",
     "text": [
      "Accuracy: 0.6786021197364652\n"
     ]
    }
   ],
   "source": [
    "\n",
    "clf = MLPClassifier(solver='lbfgs', alpha=1e-5, hidden_layer_sizes=(80,), random_state=1)\n",
    "clf.fit(X_train1,y_train1)\n",
    "\n",
    "y_predict1 = gnb.predict(X_test1)\n",
    "print(\"Accuracy:\",metrics.accuracy_score(y_test1, y_predict1))"
   ]
  },
  {
   "cell_type": "code",
   "execution_count": 51,
   "metadata": {},
   "outputs": [
    {
     "name": "stderr",
     "output_type": "stream",
     "text": [
      "D:\\Langage_Programation\\Anaconda3\\lib\\site-packages\\sklearn\\svm\\base.py:193: FutureWarning: The default value of gamma will change from 'auto' to 'scale' in version 0.22 to account better for unscaled features. Set gamma explicitly to 'auto' or 'scale' to avoid this warning.\n",
      "  \"avoid this warning.\", FutureWarning)\n"
     ]
    },
    {
     "name": "stdout",
     "output_type": "stream",
     "text": [
      "Accuracy: 0.5482669722142652\n"
     ]
    }
   ],
   "source": [
    "\n",
    "\n",
    "clf = svm.SVC()\n",
    "clf.fit(X_train1,y_train1)\n",
    "\n",
    "y_predict1 = clf.predict(X_test1)\n",
    "print(\"Accuracy:\",metrics.accuracy_score(y_test1, y_predict1))"
   ]
  },
  {
   "cell_type": "code",
   "execution_count": null,
   "metadata": {},
   "outputs": [],
   "source": []
  },
  {
   "cell_type": "code",
   "execution_count": 52,
   "metadata": {},
   "outputs": [
    {
     "ename": "ValueError",
     "evalue": "Expected array-like (array or non-string sequence), got SVC(C=1.0, cache_size=200, class_weight=None, coef0=0.0,\n    decision_function_shape='ovr', degree=3, gamma='auto_deprecated',\n    kernel='rbf', max_iter=-1, probability=False, random_state=None,\n    shrinking=True, tol=0.001, verbose=False)",
     "output_type": "error",
     "traceback": [
      "\u001b[1;31m---------------------------------------------------------------------------\u001b[0m",
      "\u001b[1;31mValueError\u001b[0m                                Traceback (most recent call last)",
      "\u001b[1;32m<ipython-input-52-2df1d0f589b2>\u001b[0m in \u001b[0;36m<module>\u001b[1;34m\u001b[0m\n\u001b[1;32m----> 1\u001b[1;33m \u001b[0mrfc_disp\u001b[0m \u001b[1;33m=\u001b[0m \u001b[0mmetrics\u001b[0m\u001b[1;33m.\u001b[0m\u001b[0mroc_curve\u001b[0m\u001b[1;33m(\u001b[0m\u001b[0mclf\u001b[0m\u001b[1;33m,\u001b[0m \u001b[0mX_test1\u001b[0m\u001b[1;33m,\u001b[0m \u001b[0my_test1\u001b[0m\u001b[1;33m)\u001b[0m\u001b[1;33m\u001b[0m\u001b[1;33m\u001b[0m\u001b[0m\n\u001b[0m\u001b[0;32m      2\u001b[0m \u001b[0mrfc_disp\u001b[0m\u001b[1;33m\u001b[0m\u001b[1;33m\u001b[0m\u001b[0m\n",
      "\u001b[1;32mD:\\Langage_Programation\\Anaconda3\\lib\\site-packages\\sklearn\\metrics\\ranking.py\u001b[0m in \u001b[0;36mroc_curve\u001b[1;34m(y_true, y_score, pos_label, sample_weight, drop_intermediate)\u001b[0m\n\u001b[0;32m    620\u001b[0m     \"\"\"\n\u001b[0;32m    621\u001b[0m     fps, tps, thresholds = _binary_clf_curve(\n\u001b[1;32m--> 622\u001b[1;33m         y_true, y_score, pos_label=pos_label, sample_weight=sample_weight)\n\u001b[0m\u001b[0;32m    623\u001b[0m \u001b[1;33m\u001b[0m\u001b[0m\n\u001b[0;32m    624\u001b[0m     \u001b[1;31m# Attempt to drop thresholds corresponding to points in between and\u001b[0m\u001b[1;33m\u001b[0m\u001b[1;33m\u001b[0m\u001b[1;33m\u001b[0m\u001b[0m\n",
      "\u001b[1;32mD:\\Langage_Programation\\Anaconda3\\lib\\site-packages\\sklearn\\metrics\\ranking.py\u001b[0m in \u001b[0;36m_binary_clf_curve\u001b[1;34m(y_true, y_score, pos_label, sample_weight)\u001b[0m\n\u001b[0;32m    391\u001b[0m     \"\"\"\n\u001b[0;32m    392\u001b[0m     \u001b[1;31m# Check to make sure y_true is valid\u001b[0m\u001b[1;33m\u001b[0m\u001b[1;33m\u001b[0m\u001b[1;33m\u001b[0m\u001b[0m\n\u001b[1;32m--> 393\u001b[1;33m     \u001b[0my_type\u001b[0m \u001b[1;33m=\u001b[0m \u001b[0mtype_of_target\u001b[0m\u001b[1;33m(\u001b[0m\u001b[0my_true\u001b[0m\u001b[1;33m)\u001b[0m\u001b[1;33m\u001b[0m\u001b[1;33m\u001b[0m\u001b[0m\n\u001b[0m\u001b[0;32m    394\u001b[0m     if not (y_type == \"binary\" or\n\u001b[0;32m    395\u001b[0m             (y_type == \"multiclass\" and pos_label is not None)):\n",
      "\u001b[1;32mD:\\Langage_Programation\\Anaconda3\\lib\\site-packages\\sklearn\\utils\\multiclass.py\u001b[0m in \u001b[0;36mtype_of_target\u001b[1;34m(y)\u001b[0m\n\u001b[0;32m    239\u001b[0m     \u001b[1;32mif\u001b[0m \u001b[1;32mnot\u001b[0m \u001b[0mvalid\u001b[0m\u001b[1;33m:\u001b[0m\u001b[1;33m\u001b[0m\u001b[1;33m\u001b[0m\u001b[0m\n\u001b[0;32m    240\u001b[0m         raise ValueError('Expected array-like (array or non-string sequence), '\n\u001b[1;32m--> 241\u001b[1;33m                          'got %r' % y)\n\u001b[0m\u001b[0;32m    242\u001b[0m \u001b[1;33m\u001b[0m\u001b[0m\n\u001b[0;32m    243\u001b[0m     \u001b[0msparseseries\u001b[0m \u001b[1;33m=\u001b[0m \u001b[1;33m(\u001b[0m\u001b[0my\u001b[0m\u001b[1;33m.\u001b[0m\u001b[0m__class__\u001b[0m\u001b[1;33m.\u001b[0m\u001b[0m__name__\u001b[0m \u001b[1;33m==\u001b[0m \u001b[1;34m'SparseSeries'\u001b[0m\u001b[1;33m)\u001b[0m\u001b[1;33m\u001b[0m\u001b[1;33m\u001b[0m\u001b[0m\n",
      "\u001b[1;31mValueError\u001b[0m: Expected array-like (array or non-string sequence), got SVC(C=1.0, cache_size=200, class_weight=None, coef0=0.0,\n    decision_function_shape='ovr', degree=3, gamma='auto_deprecated',\n    kernel='rbf', max_iter=-1, probability=False, random_state=None,\n    shrinking=True, tol=0.001, verbose=False)"
     ]
    }
   ],
   "source": []
  },
  {
   "cell_type": "code",
   "execution_count": null,
   "metadata": {},
   "outputs": [],
   "source": []
  },
  {
   "cell_type": "code",
   "execution_count": null,
   "metadata": {},
   "outputs": [],
   "source": []
  },
  {
   "cell_type": "code",
   "execution_count": null,
   "metadata": {},
   "outputs": [],
   "source": []
  }
 ],
 "metadata": {
  "kernelspec": {
   "display_name": "Python 3",
   "language": "python",
   "name": "python3"
  },
  "language_info": {
   "codemirror_mode": {
    "name": "ipython",
    "version": 3
   },
   "file_extension": ".py",
   "mimetype": "text/x-python",
   "name": "python",
   "nbconvert_exporter": "python",
   "pygments_lexer": "ipython3",
   "version": "3.7.1"
  }
 },
 "nbformat": 4,
 "nbformat_minor": 4
}
